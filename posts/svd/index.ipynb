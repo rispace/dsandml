{
  "cells": [
    {
      "cell_type": "markdown",
      "metadata": {},
      "source": [
        "# Matrix decomposition: Understanding Singular Value Decomposition\n",
        "\n",
        "Rafiq Islam  \n",
        "2025-08-23"
      ],
      "id": "6072d2b2-5dc8-4f3c-8e49-4475770bf5c1"
    }
  ],
  "nbformat": 4,
  "nbformat_minor": 5,
  "metadata": {
    "kernelspec": {
      "display_name": "Python 3",
      "language": "python",
      "name": "python3"
    }
  }
}