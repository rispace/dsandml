{
  "cells": [
    {
      "cell_type": "markdown",
      "metadata": {},
      "source": [
        "# Importance of class balance in training a classification model\n",
        "\n",
        "Rafiq Islam  \n",
        "2025-08-23"
      ],
      "id": "b6840e9c-f144-4ab2-80ca-0aa0fc96e06f"
    },
    {
      "cell_type": "raw",
      "metadata": {
        "raw_mimetype": "text/html"
      },
      "source": [
        "<p style=\"text-align: justify\">"
      ],
      "id": "ea39a3f4-36ec-4ad0-b52e-90fe5a02d422"
    },
    {
      "cell_type": "markdown",
      "metadata": {},
      "source": [
        "When building a **classification model**, one of the most important —\n",
        "and often overlooked — aspects is **class balance**. Class balance\n",
        "refers to how evenly distributed the categories (or classes) in our\n",
        "dataset are. Getting this wrong can cause our model to fail silently,\n",
        "producing high accuracy but poor performance in practice."
      ],
      "id": "cac6d30c-a465-42a2-b4ab-1c7b716febb0"
    },
    {
      "cell_type": "raw",
      "metadata": {
        "raw_mimetype": "text/html"
      },
      "source": [
        "</p>"
      ],
      "id": "fd6ac0d5-6237-4e08-baf5-f6efbba9331c"
    },
    {
      "cell_type": "markdown",
      "metadata": {},
      "source": [
        "## What is Class Balance and Why Does it Matter?"
      ],
      "id": "022e73b9-5d0d-4132-9ba8-1df0829343bc"
    },
    {
      "cell_type": "raw",
      "metadata": {
        "raw_mimetype": "text/html"
      },
      "source": [
        "<p style=\"text-align: justify\">"
      ],
      "id": "ebb0d0fb-5878-44fc-b4f1-cb884b4ce0fc"
    },
    {
      "cell_type": "markdown",
      "metadata": {},
      "source": [
        "Imagine you’re training a model to detect credit card fraud. Out of\n",
        "100,000 transactions, maybe only 500 are fraudulent — that’s **0.5%\n",
        "fraud cases vs. 99.5% normal cases**. This dataset is **imbalanced**,\n",
        "because one class (normal transactions) dominates the other.<br> <br> On\n",
        "the other hand, if you had 50,000 fraud cases and 50,000 normal cases,\n",
        "the dataset would be **balanced**, meaning each class contributes\n",
        "equally to training."
      ],
      "id": "142f32a5-1ef8-4883-a050-785fba2c38b0"
    },
    {
      "cell_type": "raw",
      "metadata": {
        "raw_mimetype": "text/html"
      },
      "source": [
        "</p>"
      ],
      "id": "56f5eb6e-8aa4-4e0a-979e-30b487b2f54b"
    },
    {
      "cell_type": "markdown",
      "metadata": {},
      "source": [
        "1.  **Misleading Accuracy**\n",
        "\n",
        "    -   If 99.5% of your data is “normal,” a model that predicts\n",
        "        *everything as normal* would be **99.5% accurate** — but it’s\n",
        "        useless for catching fraud.\n",
        "\n",
        "2.  **Biased Learning**\n",
        "\n",
        "    -   Machine learning algorithms tend to optimize for the majority\n",
        "        class, learning little to nothing about the minority class.\n",
        "\n",
        "3.  **Real-World Risks**\n",
        "\n",
        "    -   In fraud detection, medical diagnosis, or spam filtering, the\n",
        "        minority class is usually the one we *care about most*. Missing\n",
        "        these cases can have huge consequences.\n",
        "\n",
        "## Strategies to Handle Class Imbalance\n",
        "\n",
        "### 1. **Resampling Techniques**\n",
        "\n",
        "-   **Oversampling minority class** (e.g., SMOTE — Synthetic Minority\n",
        "    Oversampling Technique)\n",
        "-   **Undersampling majority class** to reduce dominance\n",
        "\n",
        "Useful when we want to directly modify the training dataset.\n",
        "\n",
        "### 2. **Algorithmic Approaches**\n",
        "\n",
        "-   Use models that handle imbalance better, like **tree-based models**\n",
        "    (Random Forest, XGBoost) with class weights.\n",
        "-   Adjust **class weights** in algorithms (e.g.,\n",
        "    `class_weight='balanced'` in scikit-learn).\n",
        "\n",
        "### 3. **Evaluation Metrics Beyond Accuracy**\n",
        "\n",
        "Accuracy isn’t enough. We use:\n",
        "\n",
        "-   **Precision & Recall** (focus on the minority class)\n",
        "-   **F1-score** (balance between precision & recall)\n",
        "-   **ROC-AUC / PR-AUC** (good for imbalance scenarios)\n",
        "\n",
        "### 4. **Data Collection & Domain Knowledge**\n",
        "\n",
        "Sometimes the best solution is **collecting more samples of the minority\n",
        "class** or applying **domain-specific rules** to aid the model.\n",
        "\n",
        "## Randomization\n",
        "\n",
        "Another desirable characteristic we want in the data is the\n",
        "randomization of all classes. If your dataset is ordered (e.g., first\n",
        "all “Class 0” rows, then all “Class 1” rows), most machine learning\n",
        "algorithms will process it sequentially. Without randomization\n",
        "(shuffling), we risk:\n",
        "\n",
        "-   The model learning from only one class at the start, delaying\n",
        "    convergence.  \n",
        "-   Batch-based algorithms (like stochastic gradient descent, mini-batch\n",
        "    training) seeing batches with only one class implies poor updates.\n",
        "\n",
        "Solution: We should shuffle our data before splitting into train/test\n",
        "and before feeding into training.\n",
        "\n",
        "-   In *scikit-learn*: `train_test_split(..., shuffle=True)`\n",
        "    (default).  \n",
        "-   In *PyTorch / TensorFlow*: `DataLoader(..., shuffle=True)`.\n",
        "\n",
        "Randomization is crucial before splitting, otherwise we may end up with:\n",
        "\n",
        "-   Train set = only majority class  \n",
        "-   Test set = only minority class\n",
        "\n",
        "leading to meaningless evaluation. So, we should always shuffle, and in\n",
        "imbalanced data, consider stratified splitting (preserves class ratios\n",
        "in both sets: `train_test_split(X, y, stratify=y)`)\n",
        "\n",
        "## Example\n",
        "\n",
        "Let’s explain everything with the famous *IRIS* dataset from the\n",
        "`seaborn` library."
      ],
      "id": "2b118a4b-ee85-4a86-b3ed-c5701543206d"
    },
    {
      "cell_type": "code",
      "execution_count": 2,
      "metadata": {},
      "outputs": [
        {
          "output_type": "stream",
          "name": "stdout",
          "text": [
            "tensor([0, 0, 0, 0, 0, 0, 0, 0, 0, 0, 0, 0, 0, 0, 0, 0, 0, 0, 0, 0, 0, 0, 0, 0,\n",
            "        0, 0, 0, 0, 0, 0, 0, 0, 0, 0, 0, 0, 0, 0, 0, 0, 0, 0, 0, 0, 0, 0, 0, 0,\n",
            "        0, 0, 1, 1, 1, 1, 1, 1, 1, 1, 1, 1, 1, 1, 1, 1, 1, 1, 1, 1, 1, 1, 1, 1,\n",
            "        1, 1, 1, 1, 1, 1, 1, 1, 1, 1, 1, 1, 1, 1, 1, 1, 1, 1, 1, 1, 1, 1, 1, 1,\n",
            "        1, 1, 1, 1, 2, 2, 2, 2, 2, 2, 2, 2, 2, 2, 2, 2, 2, 2, 2, 2, 2, 2, 2, 2,\n",
            "        2, 2, 2, 2, 2, 2, 2, 2, 2, 2, 2, 2, 2, 2, 2, 2, 2, 2, 2, 2, 2, 2, 2, 2,\n",
            "        2, 2, 2, 2, 2, 2])"
          ]
        },
        {
          "output_type": "display_data",
          "metadata": {},
          "data": {
            "image/png": "[encoded data removed]"
          }
        }
      ],
      "source": [
        "import torch\n",
        "import torch.nn as nn\n",
        "import numpy as np\n",
        "import seaborn as sns\n",
        "import matplotlib.pyplot as plt\n",
        "from sklearn.model_selection import train_test_split\n",
        "iris = sns.load_dataset('iris')\n",
        "data = torch.tensor(iris[iris.columns[0:4]].values).float()\n",
        "labels = torch.zeros(len(data), dtype=torch.long)\n",
        "labels[iris.species=='versicolor']=1\n",
        "labels[iris.species=='virginica']=2\n",
        "sns.countplot(x=\"species\", data=iris)\n",
        "print(labels)"
      ],
      "id": "cd9db2a6"
    },
    {
      "cell_type": "markdown",
      "metadata": {},
      "source": [
        "> **Important**\n",
        ">\n",
        "> As we can see that the number of observation is 150. So, if we just\n",
        "> directly split this data into 70-30 or 80-20 training-test ratio then\n",
        "> the training data will be an imbalanced data."
      ],
      "id": "7bae3e0f-1355-41ab-937d-be5b81367a00"
    },
    {
      "cell_type": "code",
      "execution_count": 3,
      "metadata": {},
      "outputs": [
        {
          "output_type": "display_data",
          "metadata": {},
          "data": {
            "text/plain": [
              "array([ True,  True,  True,  True,  True,  True,  True,  True,  True,\n",
              "        True,  True,  True,  True,  True,  True,  True,  True,  True,\n",
              "        True,  True,  True,  True,  True,  True,  True,  True,  True,\n",
              "        True,  True,  True,  True,  True,  True,  True,  True,  True,\n",
              "        True,  True,  True,  True,  True,  True,  True,  True,  True,\n",
              "        True,  True,  True,  True,  True,  True,  True,  True,  True,\n",
              "        True,  True,  True,  True,  True,  True,  True,  True,  True,\n",
              "        True,  True,  True,  True,  True,  True,  True,  True,  True,\n",
              "        True,  True,  True,  True,  True,  True,  True,  True,  True,\n",
              "        True,  True,  True,  True,  True,  True,  True,  True,  True,\n",
              "        True,  True,  True,  True,  True,  True,  True,  True,  True,\n",
              "        True,  True,  True,  True,  True,  True,  True,  True,  True,\n",
              "        True,  True,  True,  True,  True,  True,  True,  True,  True,\n",
              "        True,  True,  True, False, False, False, False, False, False,\n",
              "       False, False, False, False, False, False, False, False, False,\n",
              "       False, False, False, False, False, False, False, False, False,\n",
              "       False, False, False, False, False, False])"
            ]
          }
        }
      ],
      "source": [
        "trainProp = 0.8\n",
        "numTrainData = int(len(labels)*trainProp)\n",
        "trainTestB = np.zeros(len(labels), dtype=bool)\n",
        "trainTestB[range(numTrainData)] = True\n",
        "trainTestB"
      ],
      "id": "0d66870a"
    },
    {
      "cell_type": "markdown",
      "metadata": {},
      "source": [
        "Let’s check if the dataset is balanced"
      ],
      "id": "7e1ed3c2-8417-4cb1-977c-7feba92acd01"
    },
    {
      "cell_type": "code",
      "execution_count": 4,
      "metadata": {},
      "outputs": [
        {
          "output_type": "stream",
          "name": "stdout",
          "text": [
            "Class average in full dataset\n",
            "tensor(1.)\n",
            "\n",
            "Class average in the training proportion\n",
            "tensor(0.7500)\n",
            "\n",
            "Class average in the test proportion\n",
            "tensor(2.)"
          ]
        }
      ],
      "source": [
        "print('Class average in full dataset')\n",
        "print(torch.mean(labels.float()))\n",
        "print('')\n",
        "print('Class average in the training proportion')\n",
        "print(torch.mean(labels[trainTestB].float()))\n",
        "print('')\n",
        "print('Class average in the test proportion')\n",
        "print(torch.mean(labels[~trainTestB].float()))"
      ],
      "id": "b08c3a12"
    },
    {
      "cell_type": "markdown",
      "metadata": {},
      "source": [
        "> **Note**\n",
        ">\n",
        "> Note that the average in all cases should be either 1 or very close to\n",
        "> one, as we have 0,1, and 2 classes."
      ],
      "id": "d56350d8-8a87-47ae-ae99-6a560d455d8f"
    },
    {
      "cell_type": "code",
      "execution_count": 5,
      "metadata": {},
      "outputs": [
        {
          "output_type": "stream",
          "name": "stdout",
          "text": [
            "Class average in the training proportion\n",
            "tensor(0.9500)\n",
            "\n",
            "Class average in the test proportion\n",
            "tensor(1.2000)"
          ]
        }
      ],
      "source": [
        "actualTrain = np.random.choice(range(len(labels)), numTrainData, replace=False)\n",
        "trainTestB = np.zeros(len(labels), dtype=bool)\n",
        "trainTestB[actualTrain] = True\n",
        "print('Class average in the training proportion')\n",
        "print(torch.mean(labels[trainTestB].float()))\n",
        "print('')\n",
        "print('Class average in the test proportion')\n",
        "print(torch.mean(labels[~trainTestB].float()))"
      ],
      "id": "15fb33b2"
    },
    {
      "cell_type": "markdown",
      "metadata": {},
      "source": [
        "Modeling"
      ],
      "id": "97fb46a3-1cbe-4b3a-86cb-4fae8a792f01"
    },
    {
      "cell_type": "code",
      "execution_count": 6,
      "metadata": {},
      "outputs": [],
      "source": [
        "iris_classifier = nn.Sequential(\n",
        "    nn.Linear(4, 64),\n",
        "    nn.ReLU(),\n",
        "    nn.Linear(64,64),\n",
        "    nn.ReLU(),\n",
        "    nn.Linear(64,3)\n",
        ")\n",
        "loss_fun = nn.CrossEntropyLoss()\n",
        "optimizer = torch.optim.SGD(iris_classifier.parameters(), lr=0.01)"
      ],
      "id": "43ce889a"
    },
    {
      "cell_type": "markdown",
      "metadata": {},
      "source": [
        "Data Structure"
      ],
      "id": "4e9e4a16-066b-4fe8-92eb-c352ea35e225"
    },
    {
      "cell_type": "code",
      "execution_count": 7,
      "metadata": {},
      "outputs": [
        {
          "output_type": "stream",
          "name": "stdout",
          "text": [
            "Full data shape\n",
            "torch.Size([150, 4])\n",
            " \n",
            "Training data shape\n",
            "torch.Size([120, 4])\n",
            " \n",
            "Test data shape\n",
            "torch.Size([30, 4])"
          ]
        }
      ],
      "source": [
        "print('Full data shape')\n",
        "print(data.shape)\n",
        "print(' ')\n",
        "print('Training data shape')\n",
        "print(data[trainTestB, :].shape)\n",
        "print(' ')\n",
        "print('Test data shape')\n",
        "print(data[~trainTestB, :].shape)"
      ],
      "id": "c5691c4e"
    },
    {
      "cell_type": "markdown",
      "metadata": {},
      "source": [
        "Next, train and test the model"
      ],
      "id": "8643f755-eca8-4829-881e-84409136d7dd"
    },
    {
      "cell_type": "code",
      "execution_count": 8,
      "metadata": {},
      "outputs": [],
      "source": [
        "nEpochs = 1000\n",
        "losses = torch.zeros(nEpochs)\n",
        "accuracy_track = []\n",
        "\n",
        "for epoch in range(nEpochs):\n",
        "    # forward pass\n",
        "    yHat = iris_classifier(data[trainTestB,:])\n",
        "    # compute accuracy\n",
        "    accuracy_track.append(\n",
        "        100*torch.mean(\n",
        "            (torch.argmax(yHat, axis=1)==labels[trainTestB]\n",
        "        ).float())\n",
        "    )\n",
        "    # compute loss\n",
        "    loss = loss_fun(yHat, labels[trainTestB])\n",
        "    losses[epoch] = loss\n",
        "\n",
        "    # back propagation\n",
        "    optimizer.zero_grad()\n",
        "    loss.backward()\n",
        "    optimizer.step()"
      ],
      "id": "f7a28df0"
    },
    {
      "cell_type": "markdown",
      "metadata": {},
      "source": [
        "After training, now we can use our model to compute train and test\n",
        "accuracies"
      ],
      "id": "44ff4c78-038b-4220-baf0-846d2b61c015"
    },
    {
      "cell_type": "code",
      "execution_count": 9,
      "metadata": {},
      "outputs": [
        {
          "output_type": "stream",
          "name": "stdout",
          "text": [
            "Accuracy on training data: 98.3333%\n",
            "Accuracy on test data: 96.6667%"
          ]
        }
      ],
      "source": [
        "pred = iris_classifier(data[trainTestB, :])\n",
        "training_accuracy = 100 * torch.mean(\n",
        "    (torch.argmax(pred, axis=1)==labels[trainTestB]).float()\n",
        ")\n",
        "pred = iris_classifier(data[~trainTestB, :])\n",
        "test_accuracy = 100 * torch.mean(\n",
        "    (torch.argmax(pred, axis=1)==labels[~trainTestB]).float()\n",
        ")\n",
        "print('Accuracy on training data: %g%%' %training_accuracy)\n",
        "print('Accuracy on test data: %g%%' %test_accuracy)"
      ],
      "id": "db0e9a94"
    },
    {
      "cell_type": "markdown",
      "metadata": {},
      "source": [
        "Instead of manual splitting, we could also use `sklearn` library and\n",
        "obtain similar results"
      ],
      "id": "4bd38357-cccc-479b-9da0-c1a3c1497e89"
    },
    {
      "cell_type": "code",
      "execution_count": 10,
      "metadata": {},
      "outputs": [],
      "source": [
        "def modeling():\n",
        "    iris_classifier = nn.Sequential(\n",
        "        nn.Linear(4, 64),\n",
        "        nn.ReLU(),\n",
        "        nn.Linear(64,64),\n",
        "        nn.ReLU(),\n",
        "        nn.Linear(64,3)\n",
        "    )\n",
        "    loss_fun = nn.CrossEntropyLoss()\n",
        "    optimizer = torch.optim.SGD(iris_classifier.parameters(), lr=0.01)\n",
        "    return iris_classifier, loss_fun, optimizer\n",
        "\n",
        "nEpochs = 200\n",
        "X_train, X_test, y_train, y_test = train_test_split(\n",
        "        data, labels, train_size=trainProp\n",
        "    )\n",
        "def model_training():\n",
        "    losses = torch.zeros(nEpochs)\n",
        "    training_accuracy = []\n",
        "    test_accuracy = []\n",
        "    for epoch in range(nEpochs):\n",
        "        # forward pass\n",
        "        yHat = iris_classifier(X_train)\n",
        "        loss = loss_fun(yHat, y_train)\n",
        "\n",
        "        # back propagation \n",
        "        optimizer.zero_grad()\n",
        "        loss.backward()\n",
        "        optimizer.step()\n",
        "\n",
        "        # compute training accuracy\n",
        "        training_accuracy.append(\n",
        "            100*torch.mean((torch.argmax(yHat, axis=1)==y_train).float()).item()\n",
        "        )\n",
        "        # compute test accuracy\n",
        "        predtest = torch.argmax(iris_classifier(X_test), axis=1)\n",
        "        test_accuracy.append(\n",
        "            100*torch.mean((predtest==y_test).float()).item()\n",
        "        )\n",
        "    return training_accuracy, test_accuracy"
      ],
      "id": "e88a1948"
    },
    {
      "cell_type": "markdown",
      "metadata": {},
      "source": [
        "Now we re-train the model"
      ],
      "id": "b84db4a5-17a2-4c4a-b5cd-ca81a5460593"
    },
    {
      "cell_type": "code",
      "execution_count": 11,
      "metadata": {},
      "outputs": [
        {
          "output_type": "display_data",
          "metadata": {},
          "data": {
            "image/png": "[encoded data removed]"
          }
        }
      ],
      "source": [
        "iris_classifier, loss_fun, optimizer = modeling()\n",
        "train_acc, test_acc = model_training()\n",
        "plt.plot(train_acc, 'r-', label='train')\n",
        "plt.plot(test_acc, 'b-', label='test')\n",
        "plt.xlabel('Epochs')\n",
        "plt.ylabel('Accuracy')\n",
        "plt.legend()\n",
        "plt.show()"
      ],
      "id": "e0ae0af3"
    },
    {
      "cell_type": "markdown",
      "metadata": {},
      "source": [
        "**Share on**\n",
        "\n",
        "<a href=\"https://www.facebook.com/sharer.php?u=https://rispace.github.io/posts/classbalance/\" target=\"_blank\" style=\"color:#1877F2; text-decoration: none;\">\n",
        "\n",
        "</a>\n",
        "\n",
        "<a href=\"https://www.linkedin.com/sharing/share-offsite/?url=https://rispace.github.io/posts/classbalance/\" target=\"_blank\" style=\"color:#0077B5; text-decoration: none;\">\n",
        "\n",
        "</a>\n",
        "\n",
        "<a href=\"https://www.twitter.com/intent/tweet?url=https://rispace.github.io/posts/classbalance/\" target=\"_blank\" style=\"color:#1DA1F2; text-decoration: none;\">\n",
        "\n",
        "</a>"
      ],
      "id": "9cfcafd3-6224-4f0a-b848-83c3019efe04"
    },
    {
      "cell_type": "raw",
      "metadata": {
        "raw_mimetype": "text/html"
      },
      "source": [
        "<script src=\"https://giscus.app/client.js\"\n",
        "        data-repo=\"rispace/rispace.github.io\"\n",
        "        data-repo-id=\"R_kgDOPdB7AQ\"\n",
        "        data-category=\"Ideas\"\n",
        "        data-category-id=\"DIC_kwDOPdB7Ac4CuMVL\"\n",
        "        data-mapping=\"pathname\"\n",
        "        data-strict=\"0\"\n",
        "        data-reactions-enabled=\"1\"\n",
        "        data-emit-metadata=\"0\"\n",
        "        data-input-position=\"bottom\"\n",
        "        data-theme=\"light\"\n",
        "        data-lang=\"en\"\n",
        "        crossorigin=\"anonymous\"\n",
        "        async>\n",
        "</script>"
      ],
      "id": "335e7cfb-12a6-4ca3-b286-3fbcdb901a7e"
    },
    {
      "cell_type": "markdown",
      "metadata": {},
      "source": [],
      "id": "9ca33f82-d5a2-4a4c-938a-2c815a625eb8"
    },
    {
      "cell_type": "raw",
      "metadata": {
        "raw_mimetype": "text/html"
      },
      "source": [
        "<script async defer crossorigin=\"anonymous\"\n",
        " src=\"https://connect.facebook.net/en_US/sdk.js#xfbml=1&version=v20.0\"></script>"
      ],
      "id": "51ea8835-5d7c-4de0-bd49-7d3271229506"
    },
    {
      "cell_type": "markdown",
      "metadata": {},
      "source": [
        "**You may also like**"
      ],
      "id": "e49f3daf-f855-4657-a0b5-e09abb35b924"
    }
  ],
  "nbformat": 4,
  "nbformat_minor": 5,
  "metadata": {
    "kernelspec": {
      "name": "python3",
      "display_name": "Python 3 (ipykernel)",
      "language": "python",
      "path": "/opt/hostedtoolcache/Python/3.10.18/x64/share/jupyter/kernels/python3"
    },
    "language_info": {
      "name": "python",
      "codemirror_mode": {
        "name": "ipython",
        "version": "3"
      },
      "file_extension": ".py",
      "mimetype": "text/x-python",
      "nbconvert_exporter": "python",
      "pygments_lexer": "ipython3",
      "version": "3.10.18"
    }
  }
}