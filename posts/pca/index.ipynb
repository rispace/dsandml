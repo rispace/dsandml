{
  "cells": [
    {
      "cell_type": "markdown",
      "metadata": {},
      "source": [
        "# Dimensionality Reduction: Principle Component Analysis (PCA)\n",
        "\n",
        "Rafiq Islam  \n",
        "2024-09-24\n",
        "\n",
        "## Introduction"
      ],
      "id": "5aca0bd2-e6ae-40c1-9988-bcde229cdc65"
    },
    {
      "cell_type": "raw",
      "metadata": {
        "raw_mimetype": "text/html"
      },
      "source": [
        "<p style=\"text-align:justify\">"
      ],
      "id": "fe601f36-1456-4233-9911-98d066718c43"
    },
    {
      "cell_type": "markdown",
      "metadata": {},
      "source": [
        "Principal Component Analysis (PCA) is a powerful technique used in\n",
        "machine learning and statistics for **unsupervised dimensionality\n",
        "reduction**. It transforms high-dimensional data into a\n",
        "lower-dimensional form while preserving the most important features or\n",
        "“components” of the data. This is particularly useful when dealing with\n",
        "large datasets that are difficult to visualize or computationally\n",
        "expensive to process.<br> <br> For example, if we have a dataset that\n",
        "contains a lot of images of 20x20 pixels and we convert the images to\n",
        "one dimensional vectors then there are total 400 features which makes\n",
        "the analysis harder. PCA finds a low (best $d$) dimensional subspace\n",
        "approximation that minimizes the least square error"
      ],
      "id": "82862168-d9c1-4538-ad1c-bf7a3cb20a20"
    },
    {
      "cell_type": "raw",
      "metadata": {
        "raw_mimetype": "text/html"
      },
      "source": [
        "</p>"
      ],
      "id": "485a3731-1ec8-4e75-aed3-5b1e4100568f"
    },
    {
      "cell_type": "markdown",
      "metadata": {},
      "source": [
        "------------------------------------------------------------------------\n",
        "\n",
        "## What is Principal Component Analysis (PCA)?\n",
        "\n",
        "Let’s start from the beginning. If we have a set of orthogonal basis\n",
        "vectors say $\\mathbf{u}=(u_1,u_2,\\dots, u_p)$ then\n",
        "$u_i^Tu_j=\\delta_{ij}$ for $1\\le i,j \\le m$. For example, consider\n",
        "$u_1=\\begin{bmatrix}1\\\\ 0\\end{bmatrix}$ and\n",
        "$u_2=\\begin{bmatrix}0\\\\1\\end{bmatrix}$"
      ],
      "id": "3691f026-2b1c-422a-9796-9af90cbb9907"
    },
    {
      "cell_type": "code",
      "execution_count": 1,
      "metadata": {},
      "outputs": [
        {
          "output_type": "display_data",
          "metadata": {},
          "data": {
            "image/png": "[encoded data removed]"
          }
        }
      ],
      "source": [
        "import numpy as np\n",
        "import matplotlib.pyplot as plt\n",
        "\n",
        "fig, ax = plt.subplots()\n",
        "ax.set_xlim(-0.5,2)\n",
        "ax.set_ylim(-0.5,2)\n",
        "ax.axhline(0, color='black', linewidth=0.5)\n",
        "ax.axvline(0, color='black', linewidth=0.5)\n",
        "ax.quiver(0,0,1,0, color='red', scale=1, scale_units='xy', angles='xy')\n",
        "ax.quiver(0,0,0,1, color='red', scale=1, scale_units='xy', angles='xy')\n",
        "ax.text(1.1,0, '$u_1$', color='red', fontsize=12)\n",
        "ax.text(0,1.1, '$u_2$', color='red', fontsize=12)\n",
        "ax.set_aspect('equal')\n",
        "plt.grid(True)\n",
        "plt.gca().set_facecolor('#f4f4f4') \n",
        "plt.gcf().patch.set_facecolor('#f4f4f4')\n",
        "plt.show()"
      ],
      "id": "bcdf88a1"
    },
    {
      "cell_type": "markdown",
      "metadata": {},
      "source": [
        "Now suppose we have a data set $X$ with columns are features and $k$th\n",
        "observation $x^{(k)}=(x_1^{(k)},x_2^{(k)},\\dots,x_p^{(k)})^T$. Now let\n",
        "$\\mu=\\bar{x}= \\frac{1}{n}\\sum_{k=1}^{n}x^k$, that is for\n",
        "\n",
        "Now with the orthogonal vectors, we can write\n",
        "$$ x^k-\\mu = \\sum_{i=1}^{p}\\left[(x^k-\\mu)\\cdot u_i\\right]u_i = \\sum_{i=1}^{p} a_i^k u_i$$\n",
        "\n",
        "In PCA, we aim to find $(u_1,u_2,\\dots, u_d)$ that minimizes the\n",
        "reconstruction error, defined as the squared distance between each data\n",
        "point $x^k$ and its projection onto the subspace spanned by the top $d$\n",
        "principle components:\n",
        "$$\\mathbf{E}(u_1,u_2,\\dots, u_d)=\\sum_{k=1}^{n}\\left\\|x^k -\\left(\\mu+\\sum_{i=1}^{d} a_i^k u_i\\right)\\right\\|^2$$\n",
        "\n",
        "Here $\\sum_{i=1}^{d} a_i^ku_i$ is the projection of $x^k$ onto the\n",
        "subspace spanned by the top $d$ dimensional components. The term inside\n",
        "the norm, $x^k -\\left(\\mu+\\sum_{i=1}^{d} a_i^k u_i\\right)$, represents\n",
        "the residual error after projecting $x^k$ onto this subspace. The goal\n",
        "is to minimize this error.\n",
        "\n",
        "The residual variance corresponds to the directions (or principal\n",
        "components) **not** captured by the top $d$ principal components.\n",
        "Specifically, these are the components corresponding to\n",
        "$u_{d+1}, \\dots, u_p$, where $p$ is the total number of features (or\n",
        "components).\n",
        "\n",
        "Now, the norm inside the error function can be decomposed as follows:\n",
        "\n",
        "$$\n",
        "x^k - \\left( \\bar{x} + \\sum_{i=1}^{d} a_i^k u_i \\right) = \\left( x^k - \\bar{x} \\right) - \\sum_{i=1}^{d} a_i^k u_i\n",
        "$$\n",
        "\n",
        "We define $z^k = x^k - \\bar{x}$, so the error becomes:\n",
        "\n",
        "$$\n",
        "E(u_1, \\dots, u_d) = \\sum_{k=1}^{n} \\left\\| z^k - \\sum_{i=1}^{d} a_i^k u_i \\right\\|^2\n",
        "$$\n",
        "\n",
        "The key idea here is that $z^k$ is a vector in the original\n",
        "$p$-dimensional space, and we are approximating it by projecting it onto\n",
        "the top $d$-dimensional subspace spanned by $u_1, \\dots, u_d$.\n",
        "\n",
        "Since $u_1, \\dots, u_p$ form an orthogonal basis, $z^k$ can be\n",
        "completely expressed in terms of all the basis vectors\n",
        "$u_1, \\dots, u_p$. In particular:\n",
        "\n",
        "$$\n",
        "z^k = \\sum_{i=1}^{p} a_i^k u_i\n",
        "$$\n",
        "\n",
        "where $a_i^k = z^k \\cdot u_i$ are the projections of $z^k$ onto each\n",
        "basis vector $u_i$. Therefore, the reconstruction error\n",
        "$E(u_1, \\dots, u_d)$ is the squared norm of the residual part of $z^k$\n",
        "that is **not captured** by the top $d$ principal components:\n",
        "\n",
        "$$\n",
        "E(u_1, \\dots, u_d) = \\sum_{k=1}^{n} \\sum_{i=d+1}^{M} (a_i^k)^2\n",
        "$$\n",
        "\n",
        "This means that the error comes from the projection of $z^k$ onto the\n",
        "remaining $p-d$ principal components, i.e., $u_{d+1}, \\dots, u_p$. Thus,\n",
        "\n",
        "We start with the dot product $z^k \\cdot u_i$, which is just a scalar:\n",
        "\n",
        "$$\n",
        "z^k \\cdot u_i = (z^k)^T u_i\n",
        "$$\n",
        "\n",
        "This is simply the sum of the element-wise products of $z^k$ and $u_i$:\n",
        "\n",
        "Notice that we can rewrite the product $z_j^k z_l^k$ as an **outer\n",
        "product** of the vector $z^k$ with itself:\n",
        "\n",
        "$$\n",
        "z^k z^{kT}\n",
        "$$\n",
        "\n",
        "The outer product $z^k z^{kT}$ is a matrix, specifically an $p \\times p$\n",
        "matrix. Each element of this matrix at position $(j, l)$ is\n",
        "$z_j^k z_l^k$, exactly what we have in the double sum.\n",
        "\n",
        "So, instead of writing out all the sums explicitly, we can represent the\n",
        "whole thing as a matrix:\n",
        "\n",
        "$$\n",
        "(z^k \\cdot u_i)^2 = u_i^T (z^k z^{kT}) u_i\n",
        "$$\n",
        "\n",
        "This is called a **quadratic form**. So,\n",
        "\n",
        "where,\n",
        "\n",
        "-   $\\Sigma = \\sum_{k=1}^{n}(x^k-\\mu)(x^k-\\mu)^T=X^TX$  \n",
        "-   $X=(x^1-\\mu, x^2-\\mu,\\dots,x^p-\\mu)^T$\n",
        "\n",
        "So now we have $$E(\\mathbf{u})=\\sum_{i=d+1}^{p} u_i^T\\Sigma u_i $$\n",
        "\n",
        "and $E(\\mathbf{u})$ is minimized when $u_i$’s are the eigenvectors of\n",
        "$\\Sigma$. Then\n",
        "\n",
        "$$E(\\mathbf{u})=\\sum_{i=d+1}^{p} u_i^T\\lambda_i u_i =\\sum_{i=d+1}^{p} \\lambda_i $$\n",
        "\n",
        "and we get our desired $u_{d+1},\\dots, u_{p}$ components that minimizes\n",
        "the projection error. So if we take the first $d$ of these correspond to\n",
        "the $d$-largest eigenvalues we get the principle components.\n",
        "\n",
        "**Long story short**\n",
        "\n",
        "-   We have $n$ data points with $p$ column vectors\n",
        "    $x^1,x^2,\\dots,x^p$  \n",
        "-   We compute the mean $\\mu= \\frac{1}{n}\\sum_{k=1}^{n}x^k$  \n",
        "-   Then we compute the matrix $X=(x^1-\\mu, x^2-\\mu,\\dots,x^p-\\mu)^T$  \n",
        "-   Next, compute the eigenvalues of\n",
        "    $\\Sigma = \\sum_{k=1}^{n}(x^k-\\mu)(x^k-\\mu)^T=X^TX$ and short them in\n",
        "    decreasing order  \n",
        "-   Choose $d$, the number of principle components\n",
        "-   Then we get the principle components\n",
        "    $P=[v_1,v_2,\\dots, v_d]_{p\\times d}$  \n",
        "-   To project any column vector $z$, we compute\n",
        "    $projection(z)=P^T(z-\\mu)$\n",
        "\n",
        "------------------------------------------------------------------------\n",
        "\n",
        "## Benefits of PCA\n",
        "\n",
        "-   **Dimensionality Reduction**: PCA can reduce the number of\n",
        "    variables, which speeds up algorithms and makes models more\n",
        "    interpretable.\n",
        "-   **Visualization**: PCA is often used to project high-dimensional\n",
        "    data into 2D or 3D for visualization.\n",
        "-   **Noise Reduction**: By focusing on the principal components, PCA\n",
        "    can eliminate irrelevant noise in the data.\n",
        "-   **Avoid Multicollinearity**: PCA removes multicollinearity by\n",
        "    creating uncorrelated principal components.\n",
        "\n",
        "------------------------------------------------------------------------\n",
        "\n",
        "## Limitations of PCA\n",
        "\n",
        "-   **Linear Assumption**: PCA assumes linear relationships between\n",
        "    features. Non-linear patterns in data are not captured well by PCA.\n",
        "-   **Interpretability**: While PCA can simplify data, the new\n",
        "    components may not be easily interpretable.\n",
        "-   **Loss of Information**: Reducing dimensions might result in the\n",
        "    loss of some information or variance, depending on how many\n",
        "    components are retained.\n",
        "\n",
        "------------------------------------------------------------------------\n",
        "\n",
        "## PCA in Python: Implementation and Visualization\n",
        "\n",
        "Now that we understand the theory behind PCA, let’s implement it in\n",
        "Python using the `sklearn` library and visualize the results."
      ],
      "id": "feea5a49-7b2f-439c-b4dc-36977f6744c1"
    },
    {
      "cell_type": "code",
      "execution_count": 2,
      "metadata": {},
      "outputs": [],
      "source": [
        "import numpy as np\n",
        "import pandas as pd\n",
        "import matplotlib.pyplot as plt\n",
        "from sklearn.decomposition import PCA\n",
        "from sklearn.preprocessing import StandardScaler\n",
        "from sklearn.datasets import load_iris"
      ],
      "id": "f84da24a"
    },
    {
      "cell_type": "markdown",
      "metadata": {},
      "source": [
        "For this example, we will use the famous Iris dataset, which contains 4\n",
        "features (sepal length, sepal width, petal length, and petal width) of 3\n",
        "species of iris flowers."
      ],
      "id": "357f182a-e2c3-47ca-acd6-b19d06d0b292"
    },
    {
      "cell_type": "code",
      "execution_count": 3,
      "metadata": {},
      "outputs": [],
      "source": [
        "# Load the Iris dataset\n",
        "iris = load_iris()\n",
        "X = iris.data\n",
        "y = iris.target\n",
        "\n",
        "# Standardize the data\n",
        "scaler = StandardScaler()\n",
        "X_scaled = scaler.fit_transform(X)"
      ],
      "id": "1bc45fe4"
    },
    {
      "cell_type": "markdown",
      "metadata": {},
      "source": [
        "We will reduce the data from 4 dimensions to 2 for visualization."
      ],
      "id": "00b533f6-2078-4306-b188-424fbe07c056"
    },
    {
      "cell_type": "code",
      "execution_count": 4,
      "metadata": {},
      "outputs": [
        {
          "output_type": "stream",
          "name": "stdout",
          "text": [
            "Explained Variance Ratio: [0.72962445 0.22850762]"
          ]
        }
      ],
      "source": [
        "pca = PCA(n_components=2)\n",
        "X_pca = pca.fit_transform(X_scaled)\n",
        "\n",
        "print(f\"Explained Variance Ratio: {pca.explained_variance_ratio_}\")"
      ],
      "id": "6f256a25"
    },
    {
      "cell_type": "markdown",
      "metadata": {},
      "source": [
        "The explained variance ratio shows how much variance each principal\n",
        "component captures. In many cases, the first two components capture most\n",
        "of the variance.\n",
        "\n",
        "Let’s plot the Iris dataset using the first two principal components."
      ],
      "id": "ccfcf859-3e5b-493c-8d67-8f5bf4d1b799"
    },
    {
      "cell_type": "code",
      "execution_count": 5,
      "metadata": {},
      "outputs": [
        {
          "output_type": "display_data",
          "metadata": {},
          "data": {
            "image/png": "[encoded data removed]"
          }
        }
      ],
      "source": [
        "plt.figure(figsize=(8, 6))\n",
        "colors = ['red', 'blue', 'green']\n",
        "for i, color in enumerate(colors):\n",
        "    plt.scatter(X_pca[y == i, 0], X_pca[y == i, 1], label=iris.target_names[i], color=color)\n",
        "\n",
        "plt.title('PCA of Iris Dataset')\n",
        "plt.xlabel('Principal Component 1')\n",
        "plt.ylabel('Principal Component 2')\n",
        "plt.legend()\n",
        "plt.grid(True)\n",
        "plt.savefig('pca.png')\n",
        "plt.gca().set_facecolor('#f4f4f4') \n",
        "plt.gcf().patch.set_facecolor('#f4f4f4')\n",
        "plt.show()"
      ],
      "id": "1aff6cb8"
    },
    {
      "cell_type": "markdown",
      "metadata": {},
      "source": [
        "The plot shows the data projected onto the first two principal\n",
        "components. We can observe how the three species cluster in the reduced\n",
        "2D space. This visualization helps us see the separability of the\n",
        "classes using only two dimensions, instead of four.\n",
        "\n",
        "------------------------------------------------------------------------\n",
        "\n",
        "### **References**\n",
        "\n",
        "1.  **Jolliffe, I. T.** (2002). *Principal Component Analysis*. Springer\n",
        "    Series in Statistics.\n",
        "    -   The seminal book on PCA, providing an in-depth theoretical\n",
        "        background.\n",
        "2.  **Shlens, J.** (2014). A tutorial on principal component analysis.\n",
        "    *arXiv preprint arXiv:1404.1100*.\n",
        "    -   An excellent tutorial that breaks down PCA concepts with clear\n",
        "        mathematical derivations.\n",
        "3.  **Bishop, C. M.** (2006). *Pattern Recognition and Machine\n",
        "    Learning*. Springer.\n",
        "    -   This book offers a comprehensive guide to PCA and other machine\n",
        "        learning techniques.\n",
        "4.  **Hastie, T., Tibshirani, R., & Friedman, J.** (2009). *The Elements\n",
        "    of Statistical Learning*. Springer.\n",
        "    -   Covers PCA as well as a variety of other machine learning and\n",
        "        statistical techniques.\n",
        "5.  **Géron, A.** (2019). *Hands-On Machine Learning with Scikit-Learn,\n",
        "    Keras, and TensorFlow*. O’Reilly Media.\n",
        "    -   A practical guide with hands-on code examples, including PCA\n",
        "        implementation in Python.\n",
        "\n",
        "------------------------------------------------------------------------\n",
        "\n",
        "**Share on**\n",
        "\n",
        "<a href=\"https://www.facebook.com/sharer.php?u=https://mrislambd.github.io/dsandml/posts/pca/\" target=\"_blank\" style=\"color:#1877F2; text-decoration: none;\">\n",
        "\n",
        "</a>\n",
        "\n",
        "<a href=\"https://www.linkedin.com/sharing/share-offsite/?url=https://mrislambd.github.io/dsandml/posts/pca/\" target=\"_blank\" style=\"color:#0077B5; text-decoration: none;\">\n",
        "\n",
        "</a>\n",
        "\n",
        "<a href=\"https://www.twitter.com/intent/tweet?url=https://mrislambd.github.io/dsandml/posts/pca/\" target=\"_blank\" style=\"color:#1DA1F2; text-decoration: none;\">\n",
        "\n",
        "</a>"
      ],
      "id": "f742acf5-26ef-4a6e-b9f4-e4b4d72e45dc"
    },
    {
      "cell_type": "raw",
      "metadata": {
        "raw_mimetype": "text/html"
      },
      "source": [
        "<script src=\"https://giscus.app/client.js\"\n",
        "        data-repo=\"mrislambd/mrislambd.github.io\" \n",
        "        data-repo-id=\"R_kgDOMV8crA\"\n",
        "        data-category=\"Announcements\"\n",
        "        data-category-id=\"DIC_kwDOMV8crM4CjbQW\"\n",
        "        data-mapping=\"pathname\"\n",
        "        data-strict=\"0\"\n",
        "        data-reactions-enabled=\"1\"\n",
        "        data-emit-metadata=\"0\"\n",
        "        data-input-position=\"bottom\"\n",
        "        data-theme=\"light\"\n",
        "        data-lang=\"en\"\n",
        "        crossorigin=\"anonymous\"\n",
        "        async>\n",
        "</script>"
      ],
      "id": "ee6ace6b-28aa-4ba6-9340-a2b066e3eeed"
    },
    {
      "cell_type": "markdown",
      "metadata": {},
      "source": [],
      "id": "b9265d65-7c75-49ce-8a8d-df64b4adc67b"
    },
    {
      "cell_type": "raw",
      "metadata": {
        "raw_mimetype": "text/html"
      },
      "source": [
        "<script async defer crossorigin=\"anonymous\"\n",
        " src=\"https://connect.facebook.net/en_US/sdk.js#xfbml=1&version=v20.0\"></script>"
      ],
      "id": "477352f6-d255-4dd0-bc06-05c63989b7b6"
    },
    {
      "cell_type": "markdown",
      "metadata": {},
      "source": [
        "**You may also like**"
      ],
      "id": "15341dfc-0a50-4a44-bc61-cfd9109d3d55"
    }
  ],
  "nbformat": 4,
  "nbformat_minor": 5,
  "metadata": {
    "kernelspec": {
      "name": "python3",
      "display_name": "Python 3 (ipykernel)",
      "language": "python",
      "path": "/opt/hostedtoolcache/Python/3.10.18/x64/share/jupyter/kernels/python3"
    },
    "language_info": {
      "name": "python",
      "codemirror_mode": {
        "name": "ipython",
        "version": "3"
      },
      "file_extension": ".py",
      "mimetype": "text/x-python",
      "nbconvert_exporter": "python",
      "pygments_lexer": "ipython3",
      "version": "3.10.18"
    }
  }
}