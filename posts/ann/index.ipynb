{
  "cells": [
    {
      "cell_type": "markdown",
      "metadata": {},
      "source": [
        "# Artificial Neural Network (ANN)\n",
        "\n",
        "Rafiq Islam  \n",
        "2025-03-25"
      ],
      "id": "e1914336-fe58-48fd-89b5-831ffec63915"
    }
  ],
  "nbformat": 4,
  "nbformat_minor": 5,
  "metadata": {
    "kernelspec": {
      "display_name": "Python 3",
      "language": "python",
      "name": "python3"
    }
  }
}