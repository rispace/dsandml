{
  "cells": [
    {
      "cell_type": "markdown",
      "metadata": {},
      "source": [
        "# Ensemble Methods: Random Forest - A detailed overview\n",
        "\n",
        "Rafiq Islam  \n",
        "2024-10-07\n",
        "\n",
        "## Introduction"
      ],
      "id": "53f24a60-e64b-4c97-a5e2-1f97dd051718"
    },
    {
      "cell_type": "raw",
      "metadata": {
        "raw_mimetype": "text/html"
      },
      "source": [
        "<p style=\"text-align: justify\">"
      ],
      "id": "04f7824b-9153-470b-b17f-673310b1c8bd"
    },
    {
      "cell_type": "markdown",
      "metadata": {},
      "source": [
        "Random Forest is one of the most popular machine learning algorithms,\n",
        "known for its simplicity, versatility, and ability to perform both\n",
        "classification and regression tasks. It operates by constructing a\n",
        "multitude of decision trees during training and outputs the mode of the\n",
        "classes (for classification) or the mean prediction (for regression) of\n",
        "the individual trees."
      ],
      "id": "18b3b9e3-9673-4715-b9d0-04497ba24c33"
    },
    {
      "cell_type": "raw",
      "metadata": {
        "raw_mimetype": "text/html"
      },
      "source": [
        "</p>"
      ],
      "id": "f6bedbf3-7b52-4602-a308-2a2d3d0b94f3"
    },
    {
      "cell_type": "markdown",
      "metadata": {},
      "source": [
        "## What is Random Forest?"
      ],
      "id": "f71c64d7-fea4-419e-b04a-acda262f75df"
    },
    {
      "cell_type": "raw",
      "metadata": {
        "raw_mimetype": "text/html"
      },
      "source": [
        "<p style=\"text-align: justify\">"
      ],
      "id": "122cb11c-1c63-45d8-b0d5-f4c90000314f"
    },
    {
      "cell_type": "markdown",
      "metadata": {},
      "source": [
        "Random Forest is an ensemble learning method that builds multiple\n",
        "decision trees and combines their predictions to obtain a more accurate\n",
        "and stable result. Each tree is built using a different random subset of\n",
        "the data, and at each node, a random subset of features is considered\n",
        "when splitting the data."
      ],
      "id": "f5b2d78f-a046-4d5e-8b76-bb183c39cc19"
    },
    {
      "cell_type": "raw",
      "metadata": {
        "raw_mimetype": "text/html"
      },
      "source": [
        "</p>"
      ],
      "id": "8cc498c7-ab94-4ef4-886b-ec57e89962e9"
    },
    {
      "cell_type": "markdown",
      "metadata": {},
      "source": [
        "-   **Classification:** The final output is determined by majority\n",
        "    voting from all the decision trees\n",
        "-   **Regression:** The output is the average of all tree predictions.\n",
        "\n",
        "## Mathematics Behind Random Forest\n",
        "\n",
        "To understand Random Forest, we first need to recap how a decision tree\n",
        "works and then explore how Random Forest extends this idea.\n",
        "\n",
        "### <a href=\"../../posts/decisiontree/index.qmd\" target=\"_blank\"\n",
        "style=\"text-decoration:none\">Decision Tree Recap</a>\n",
        "\n",
        "A decision tree is a tree-structured model where each internal node\n",
        "represents a “test” on an attribute (e.g., whether the feature value is\n",
        "above or below a threshold), each branch represents the outcome of the\n",
        "test, and each leaf node represents a class label (classification) or a\n",
        "value (regression).\n",
        "\n",
        "-   For **classification**, the goal is to partition the data such that\n",
        "    the class labels in each partition are as homogeneous as possible.  \n",
        "-   For **regression**, the goal is to minimize the variance of the\n",
        "    predicted values.\n",
        "\n",
        "Mathematically, the decision tree makes decisions by minimizing the\n",
        "**Gini Index** or **Entropy** for classification tasks and minimizing\n",
        "the **Mean Squared Error (MSE)** for regression tasks.\n",
        "\n",
        "### Random Forest Algorithm\n",
        "\n",
        "Random Forest enhances decision trees by employing two key concepts:\n",
        "\n",
        "-   **Random Sampling (Bootstrap Sampling):** From the training set of\n",
        "    size $N$, randomly draw $N$ samples with replacement.  \n",
        "-   **Feature Subsampling:** At each node of the decision tree, a random\n",
        "    subset of the features is selected, and the best split is chosen\n",
        "    only from these features.\n",
        "\n",
        "The process for building a Random Forest can be summarized as follows:\n",
        "\n",
        "1.  Draw $B$ bootstrap samples from the original dataset.\n",
        "2.  For each bootstrap sample, grow an unpruned decision tree using a\n",
        "    random subset of features at each node.\n",
        "3.  For **classification**, combine the predictions of all the trees by\n",
        "    majority voting.\n",
        "4.  For **regression**, combine the predictions by averaging the outputs\n",
        "    of all trees.\n",
        "\n",
        "### Random Forest for Classification\n",
        "\n",
        "For classification tasks, Random Forest works by constructing multiple\n",
        "decision trees, each built on a different subset of the data and a\n",
        "random subset of the features.\n",
        "\n",
        "Given a dataset $D = \\{(x_1, y_1), (x_2, y_2), ..., (x_N, y_N)\\}$, where\n",
        "$x_i$ is a feature vector and $y_i$ is the class label, Random Forest\n",
        "generates $B$ decision trees $T_1, T_2, ..., T_B$.\n",
        "\n",
        "For each test point $x$, each tree $T_b$ gives a class prediction: $$\n",
        "\\hat{y}_b(x) = T_b(x)\n",
        "$$ The final prediction is determined by majority voting: $$\n",
        "\\hat{y}(x) = \\text{argmax}_k \\sum_{b=1}^{B} I(\\hat{y}_b(x) = k)\n",
        "$$ where $I(\\cdot)$ is an indicator function that equals 1 if the\n",
        "condition is true and 0 otherwise.\n",
        "\n",
        "------------------------------------------------------------------------\n",
        "\n",
        "### Random Forest for Regression\n",
        "\n",
        "In regression tasks, Random Forest builds trees that predict continuous\n",
        "values and averages the results.\n",
        "\n",
        "Given a dataset $D = \\{(x_1, y_1), (x_2, y_2), ..., (x_N, y_N)\\}$, where\n",
        "$x_i$ is a feature vector and $y_i$ is the continuous target variable,\n",
        "Random Forest generates $B$ decision trees $T_1, T_2, ..., T_B$.\n",
        "\n",
        "For each test point $x$, each tree $T_b$ gives a predicted value: $$\n",
        "\\hat{y}_b(x) = T_b(x)\n",
        "$$ The final prediction is the average of all the tree predictions: $$\n",
        "\\hat{y}(x) = \\frac{1}{B} \\sum_{b=1}^{B} \\hat{y}_b(x)\n",
        "$$\n",
        "\n",
        "------------------------------------------------------------------------\n",
        "\n",
        "## Assumptions of Random Forest\n",
        "\n",
        "Random Forest makes few assumptions about the data, making it highly\n",
        "flexible. Some assumptions include:\n",
        "\n",
        "-   **Independent Features:** While Random Forest does not explicitly\n",
        "    assume that features are independent, correlated features can reduce\n",
        "    its performance slightly.  \n",
        "-   **Noisy Data:** Random Forest is robust to noise due to its ensemble\n",
        "    nature.  \n",
        "-   **Non-linearity:** Random Forest can handle non-linear relationships\n",
        "    between features and the target.\n",
        "\n",
        "## Advantages of Random Forest\n",
        "\n",
        "-   **Reduction of Overfitting:** Random Forest reduces overfitting by\n",
        "    averaging the predictions of multiple trees.\n",
        "-   **Handles Missing Data:** It can handle missing values by assigning\n",
        "    them to the most frequent class (classification) or mean value\n",
        "    (regression).\n",
        "-   **Robust to Noise:** It is relatively resistant to outliers and\n",
        "    noise due to its ensemble nature.\n",
        "-   **Works with Categorical & Continuous Variables:** Random Forest can\n",
        "    handle both categorical and continuous data types.\n",
        "-   **Feature Importance:** It provides an estimate of feature\n",
        "    importance, allowing for better interpretability of models.\n",
        "\n",
        "## Disadvantages of Random Forest\n",
        "\n",
        "-   **Complexity:** The algorithm is computationally intensive,\n",
        "    especially with a large number of trees.\n",
        "-   **Interpretability:** While decision trees are interpretable, Random\n",
        "    Forest is a “black-box” model where it’s hard to understand\n",
        "    individual predictions.\n",
        "-   **Memory Usage:** Random Forest can require more memory to store\n",
        "    multiple decision trees.\n",
        "-   **Bias in Imbalanced Data:** For classification tasks with\n",
        "    imbalanced data, Random Forest may be biased toward the majority\n",
        "    class.\n",
        "\n",
        "------------------------------------------------------------------------\n",
        "\n",
        "## Python Implementation\n",
        "\n",
        "Here is a Python code example of how to implement Random Forest for both\n",
        "classification and regression using `scikit-learn`."
      ],
      "id": "72ef7184-22e5-46a8-8899-d28e9fa9a761"
    },
    {
      "cell_type": "code",
      "execution_count": 1,
      "metadata": {},
      "outputs": [
        {
          "output_type": "stream",
          "name": "stdout",
          "text": [
            "Classification Accuracy: 1.0\n",
            "Regression Mean Squared Error: 19.715794117647054"
          ]
        }
      ],
      "source": [
        "import pandas as pd\n",
        "import numpy as np\n",
        "from sklearn.ensemble import RandomForestClassifier, RandomForestRegressor\n",
        "from sklearn.model_selection import train_test_split\n",
        "from sklearn.metrics import accuracy_score, mean_squared_error\n",
        "from sklearn.datasets import load_iris\n",
        "\n",
        "# Classification Example: Iris dataset\n",
        "iris = load_iris()\n",
        "X, y = iris.data, iris.target\n",
        "X_train, X_test, y_train, y_test = train_test_split(X, y, test_size=0.3, random_state=42)\n",
        "\n",
        "# Initialize RandomForest Classifier\n",
        "clf = RandomForestClassifier(n_estimators=100, random_state=42)\n",
        "clf.fit(X_train, y_train)\n",
        "\n",
        "# Predict and evaluate\n",
        "y_pred = clf.predict(X_test)\n",
        "accuracy = accuracy_score(y_test, y_pred)\n",
        "print(f\"Classification Accuracy: {accuracy}\")\n",
        "\n",
        "# Regression Example: Boston Housing dataset\n",
        "df_raw = pd.read_csv(\"HousingData.csv\")\n",
        "df = df_raw.dropna()\n",
        "X = df.drop(columns=['MEDV'])\n",
        "y = df['MEDV']\n",
        "X_train, X_test, y_train, y_test = train_test_split(X, y, test_size=0.3, random_state=42)\n",
        "\n",
        "# Initialize RandomForest Regressor\n",
        "reg = RandomForestRegressor(n_estimators=100, random_state=42)\n",
        "reg.fit(X_train, y_train)\n",
        "\n",
        "# Predict and evaluate\n",
        "y_pred = reg.predict(X_test)\n",
        "mse = mean_squared_error(y_test, y_pred)\n",
        "print(f\"Regression Mean Squared Error: {mse}\")"
      ],
      "id": "9d9bae52"
    },
    {
      "cell_type": "markdown",
      "metadata": {},
      "source": [
        "## Hyperparameter Tuning for Random Forest\n",
        "\n",
        "Tuning the hyperparameters of a Random Forest can significantly improve\n",
        "its performance. Here are some important hyperparameters to consider:\n",
        "\n",
        "### Important Hyperparameters\n",
        "\n",
        "-   **`n_estimators`:** This is the number of trees in the forest.\n",
        "    Increasing this number usually improves performance but also\n",
        "    increases computational cost.\n",
        "    -   **Tip:** Start with a default value of 100 and increase as\n",
        "        needed.  \n",
        "-   **`max_depth`:** The maximum depth of each tree. Deeper trees can\n",
        "    model more complex relationships, but they also increase the risk of\n",
        "    overfitting.\n",
        "    -   **Tip:** Use cross-validation to find the optimal depth that\n",
        "        balances bias and variance  \n",
        "-   **`min_samples_split`:** The minimum number of samples required to\n",
        "    split an internal node. Higher values prevent the tree from becoming\n",
        "    too specific (overfitting).\n",
        "    -   **Tip:** Use higher values (e.g., 5 or 10) to reduce overfitting\n",
        "        in noisy datasets.\n",
        "-   **`min_samples_leaf`:** The minimum number of samples required to be\n",
        "    at a leaf node. Larger leaf sizes reduce model complexity and can\n",
        "    help generalization.\n",
        "-   **`max_features`:** The number of features to consider when looking\n",
        "    for the best split. Randomly selecting fewer features can reduce\n",
        "    correlation between trees and improve generalization.\n",
        "    -   **Tip:** For classification, a common choice is\n",
        "        `sqrt(number_of_features)`. For regression,\n",
        "        `max_features = number_of_features / 3` is often effective.\n",
        "-   **`bootstrap`:** Whether to use bootstrap samples when building\n",
        "    trees. Set this to `True` for Random Forest (default) or `False` for\n",
        "    extremely randomized trees (also known as ExtraTrees).\n",
        "\n",
        "### Grid Search for Hyperparameter Tuning\n",
        "\n",
        "To fine-tune the hyperparameters of a Random Forest, we can use\n",
        "**GridSearchCV** or **RandomizedSearchCV** in `scikit-learn`. Here’s an\n",
        "example of how to use `GridSearchCV` for tuning a Random Forest\n",
        "Classifier:"
      ],
      "id": "3db3e400-b0ef-4855-9b71-40d5cd31d451"
    },
    {
      "cell_type": "code",
      "execution_count": 2,
      "metadata": {},
      "outputs": [
        {
          "output_type": "stream",
          "name": "stdout",
          "text": [
            "Best Hyperparameters: {'max_depth': None, 'max_features': 'sqrt', 'min_samples_leaf': 1, 'min_samples_split': 2, 'n_estimators': 100}\n",
            "Accuracy with Best Parameters: 1.0"
          ]
        }
      ],
      "source": [
        "from sklearn.model_selection import GridSearchCV\n",
        "\n",
        "param_grid = {\n",
        "    'n_estimators': [100, 200, 300],\n",
        "    'max_depth': [None, 10, 20, 30],\n",
        "    'min_samples_split': [2, 5, 10],\n",
        "    'min_samples_leaf': [1, 2, 4],\n",
        "    'max_features': ['sqrt', 'log2', None]\n",
        "}\n",
        "\n",
        "iris = load_iris()\n",
        "X, y = iris.data, iris.target\n",
        "X_train, X_test, y_train, y_test = train_test_split(X, y, test_size=0.3, random_state=42)\n",
        "\n",
        "# Initialize Random Forest Classifier\n",
        "clf = RandomForestClassifier(random_state=42)\n",
        "\n",
        "# Perform grid search\n",
        "grid_search = GridSearchCV(estimator=clf, param_grid=param_grid, cv=5, n_jobs=-1, verbose=0)\n",
        "grid_search.fit(X_train, y_train)\n",
        "\n",
        "# Best parameters from grid search\n",
        "print(\"Best Hyperparameters:\", grid_search.best_params_)\n",
        "\n",
        "# Evaluate with best parameters\n",
        "best_model = grid_search.best_estimator_\n",
        "y_pred = best_model.predict(X_test)\n",
        "accuracy = accuracy_score(y_test, y_pred)\n",
        "print(f\"Accuracy with Best Parameters: {accuracy}\")"
      ],
      "id": "1ceeaa57"
    },
    {
      "cell_type": "markdown",
      "metadata": {},
      "source": [
        "Using this technique, we can find the combination of hyperparameters\n",
        "that yields the best model performance.\n",
        "\n",
        "## Feature Importance in Random Forest\n",
        "\n",
        "One of the appealing aspects of Random Forest is that it provides a\n",
        "measure of **feature importance**, which indicates how much each feature\n",
        "contributes to the model’s predictions.\n",
        "\n",
        "### Computing Feature Importance\n",
        "\n",
        "In Random Forest, feature importance is computed by measuring the\n",
        "**average reduction in impurity** (e.g., Gini impurity or MSE) brought\n",
        "by each feature across all trees. Features that lead to larger\n",
        "reductions are considered more important."
      ],
      "id": "b6eb24f2-d64b-4e93-abf9-0764ac26ec70"
    },
    {
      "cell_type": "code",
      "execution_count": 3,
      "metadata": {},
      "outputs": [
        {
          "output_type": "display_data",
          "metadata": {},
          "data": {
            "image/png": "[encoded data removed]"
          }
        }
      ],
      "source": [
        "import matplotlib.pyplot as plt\n",
        "import numpy as np\n",
        "\n",
        "clf.fit(X_train,y_train)\n",
        "# Get feature importance from the RandomForest model\n",
        "importances = clf.feature_importances_\n",
        "indices = np.argsort(importances)[::-1]\n",
        "\n",
        "# Plot the feature importance\n",
        "plt.figure(figsize=(10, 6))\n",
        "plt.title(\"Feature Importance\")\n",
        "plt.bar(range(X.shape[1]), importances[indices], align=\"center\")\n",
        "plt.xticks(range(X.shape[1]), iris.feature_names, rotation=90)\n",
        "plt.tight_layout()\n",
        "plt.show()"
      ],
      "id": "925a5f59"
    },
    {
      "cell_type": "markdown",
      "metadata": {},
      "source": [
        "The bar chart is showing the relative importance of each feature, making\n",
        "it easier to understand which features have the most predictive power.\n",
        "\n",
        "## Out-of-Bag (OOB) Error Estimate\n",
        "\n",
        "Random Forest uses **Out-of-Bag (OOB)** samples as an alternative to\n",
        "cross-validation. Since each tree is trained on a bootstrap sample,\n",
        "about one-third of the data is left out in each iteration. These\n",
        "“out-of-bag” samples can be used to estimate the model’s performance\n",
        "without the need for a separate validation set.\n",
        "\n",
        "### Enabling OOB in Python\n",
        "\n",
        "You can enable the out-of-bag error estimate by setting `oob_score=True`\n",
        "in the `RandomForestClassifier` or `RandomForestRegressor`."
      ],
      "id": "70ab1a19-a8ef-47ba-8891-237edd18a277"
    },
    {
      "cell_type": "code",
      "execution_count": 4,
      "metadata": {},
      "outputs": [
        {
          "output_type": "stream",
          "name": "stdout",
          "text": [
            "OOB Score: 0.9428571428571428"
          ]
        }
      ],
      "source": [
        "clf = RandomForestClassifier(n_estimators=100, oob_score=True, random_state=42)\n",
        "clf.fit(X_train, y_train)\n",
        "\n",
        "# Access the OOB score\n",
        "print(f\"OOB Score: {clf.oob_score_}\")"
      ],
      "id": "3ac6e332"
    },
    {
      "cell_type": "markdown",
      "metadata": {},
      "source": [
        "The OOB score is an unbiased estimate of the model’s performance, which\n",
        "is particularly useful when the dataset is small and splitting it\n",
        "further into training/validation sets might reduce training\n",
        "effectiveness.\n",
        "\n",
        "## Dealing with Imbalanced Data\n",
        "\n",
        "For imbalanced classification tasks (where one class is much more\n",
        "frequent than the others), Random Forest may be biased toward predicting\n",
        "the majority class. Several techniques can help mitigate this issue:\n",
        "\n",
        "-   **Class Weights:** You can assign higher weights to the minority\n",
        "    class to force the model to pay more attention to it."
      ],
      "id": "ed87ed67-f27d-462d-9afc-00d666b4a0fc"
    },
    {
      "cell_type": "code",
      "execution_count": 5,
      "metadata": {},
      "outputs": [
        {
          "output_type": "display_data",
          "metadata": {},
          "data": {
            "text/html": [
              "\n",
              "            </details>\n",
              "        </div>\n",
              "    </div></div></div></div></div><script>function copyToClipboard(text, element) {\n",
              "    // Get the parameter prefix from the closest toggleable content\n",
              "    const toggleableContent = element.closest('.sk-toggleable__content');\n",
              "    const paramPrefix = toggleableContent ? toggleableContent.dataset.paramPrefix : '';\n",
              "    const fullParamName = paramPrefix ? `${paramPrefix}${text}` : text;\n",
              "\n",
              "    const originalStyle = element.style;\n",
              "    const computedStyle = window.getComputedStyle(element);\n",
              "    const originalWidth = computedStyle.width;\n",
              "    const originalHTML = element.innerHTML.replace('Copied!', '');\n",
              "\n",
              "    navigator.clipboard.writeText(fullParamName)\n",
              "        .then(() => {\n",
              "            element.style.width = originalWidth;\n",
              "            element.style.color = 'green';\n",
              "            element.innerHTML = \"Copied!\";\n",
              "\n",
              "            setTimeout(() => {\n",
              "                element.innerHTML = originalHTML;\n",
              "                element.style = originalStyle;\n",
              "            }, 2000);\n",
              "        })\n",
              "        .catch(err => {\n",
              "            console.error('Failed to copy:', err);\n",
              "            element.style.color = 'red';\n",
              "            element.innerHTML = \"Failed!\";\n",
              "            setTimeout(() => {\n",
              "                element.innerHTML = originalHTML;\n",
              "                element.style = originalStyle;\n",
              "            }, 2000);\n",
              "        });\n",
              "    return false;\n",
              "}\n",
              "\n",
              "document.querySelectorAll('.fa-regular.fa-copy').forEach(function(element) {\n",
              "    const toggleableContent = element.closest('.sk-toggleable__content');\n",
              "    const paramPrefix = toggleableContent ? toggleableContent.dataset.paramPrefix : '';\n",
              "    const paramName = element.parentElement.nextElementSibling.textContent.trim();\n",
              "    const fullParamName = paramPrefix ? `${paramPrefix}${paramName}` : paramName;\n",
              "\n",
              "    element.setAttribute('title', fullParamName);\n",
              "});\n",
              "</script></body>"
            ]
          }
        }
      ],
      "source": [
        "clf = RandomForestClassifier(class_weight='balanced', random_state=42)\n",
        "clf.fit(X_train, y_train)"
      ],
      "id": "214ff8dc"
    },
    {
      "cell_type": "markdown",
      "metadata": {},
      "source": [
        "-   **Resampling:** You can either oversample the minority class or\n",
        "    undersample the majority class."
      ],
      "id": "eb140e69-87a9-4c16-a93e-2a671a59dcd9"
    },
    {
      "cell_type": "code",
      "execution_count": 6,
      "metadata": {},
      "outputs": [],
      "source": [
        "from imblearn.over_sampling import SMOTE\n",
        "sm = SMOTE(random_state=42)\n",
        "X_resampled, y_resampled = sm.fit_resample(X_train, y_train)"
      ],
      "id": "e06634a9"
    },
    {
      "cell_type": "markdown",
      "metadata": {},
      "source": [
        "## Random Forest in Practice: Best Practices\n",
        "\n",
        "-   **Cross-Validation:** Always perform cross-validation to ensure the\n",
        "    model generalizes well\n",
        "-   **Parallelization:** Random Forest naturally supports\n",
        "    parallelization. If using `scikit-learn`, set `n_jobs=-1` to utilize\n",
        "    all CPU cores for training.  \n",
        "-   **Ensemble Methods:** For better results, you can combine Random\n",
        "    Forest with other ensemble methods, such as boosting (e.g., XGBoost\n",
        "    or Gradient Boosting) to further improve performance.\n",
        "\n",
        "Random Forest is a highly flexible, non-parametric machine learning\n",
        "algorithm that can be used for both classification and regression tasks.\n",
        "Its ensemble-based approach reduces overfitting, improves predictive\n",
        "performance, and provides valuable insights like feature importance.\n",
        "Despite its many advantages, Random Forest is computationally intensive\n",
        "and may not be the best choice for real-time applications or datasets\n",
        "with extremely high dimensionality.\n",
        "\n",
        "------------------------------------------------------------------------\n",
        "\n",
        "## References\n",
        "\n",
        "1.  Breiman, L. (2001). “Random Forests”. Machine Learning, 45(1), 5-32.\n",
        "2.  Pedregosa, F., et al. (2011). “Scikit-learn: Machine Learning in\n",
        "    Python”. Journal of Machine Learning Research, 12, 2825-2830.\n",
        "3.  Hastie, T., Tibshirani, R., & Friedman, J. (2009). “The Elements of\n",
        "    Statistical Learning”. Springer Series in Statistics.\n",
        "\n",
        "**Share on**\n",
        "\n",
        "<a href=\"https://www.facebook.com/sharer.php?u=https://mrislambd.github.io/dsandml/posts/randomforest/\" target=\"_blank\" style=\"color:#1877F2; text-decoration: none;\">\n",
        "\n",
        "</a>\n",
        "\n",
        "<a href=\"https://www.linkedin.com/sharing/share-offsite/?url=https://mrislambd.github.io/dsandml/posts/randomforest/\" target=\"_blank\" style=\"color:#0077B5; text-decoration: none;\">\n",
        "\n",
        "</a>\n",
        "\n",
        "<a href=\"https://www.twitter.com/intent/tweet?url=https://mrislambd.github.io/dsandml/posts/randomforest/\" target=\"_blank\" style=\"color:#1DA1F2; text-decoration: none;\">\n",
        "\n",
        "</a>"
      ],
      "id": "34f35ae6-92bb-4097-b620-6044c167be3c"
    },
    {
      "cell_type": "raw",
      "metadata": {
        "raw_mimetype": "text/html"
      },
      "source": [
        "<script src=\"https://giscus.app/client.js\"\n",
        "        data-repo=\"mrislambd/mrislambd.github.io\" \n",
        "        data-repo-id=\"R_kgDOMV8crA\"\n",
        "        data-category=\"Announcements\"\n",
        "        data-category-id=\"DIC_kwDOMV8crM4CjbQW\"\n",
        "        data-mapping=\"pathname\"\n",
        "        data-strict=\"0\"\n",
        "        data-reactions-enabled=\"1\"\n",
        "        data-emit-metadata=\"0\"\n",
        "        data-input-position=\"bottom\"\n",
        "        data-theme=\"light\"\n",
        "        data-lang=\"en\"\n",
        "        crossorigin=\"anonymous\"\n",
        "        async>\n",
        "</script>"
      ],
      "id": "b1dc9061-d3be-43fe-bd17-e3a236057f4e"
    },
    {
      "cell_type": "markdown",
      "metadata": {},
      "source": [],
      "id": "9bf004cd-a3ef-4fdf-b10e-eb2f46cde9ee"
    },
    {
      "cell_type": "raw",
      "metadata": {
        "raw_mimetype": "text/html"
      },
      "source": [
        "<script async defer crossorigin=\"anonymous\"\n",
        " src=\"https://connect.facebook.net/en_US/sdk.js#xfbml=1&version=v20.0\"></script>"
      ],
      "id": "9a38a122-145f-4587-aaeb-af29e4f59e46"
    },
    {
      "cell_type": "markdown",
      "metadata": {},
      "source": [
        "**You may also like**"
      ],
      "id": "65359e4b-6481-462b-aa4c-2a497b169f6b"
    }
  ],
  "nbformat": 4,
  "nbformat_minor": 5,
  "metadata": {
    "kernelspec": {
      "name": "python3",
      "display_name": "Python 3 (ipykernel)",
      "language": "python",
      "path": "/opt/hostedtoolcache/Python/3.10.18/x64/share/jupyter/kernels/python3"
    },
    "language_info": {
      "name": "python",
      "codemirror_mode": {
        "name": "ipython",
        "version": "3"
      },
      "file_extension": ".py",
      "mimetype": "text/x-python",
      "nbconvert_exporter": "python",
      "pygments_lexer": "ipython3",
      "version": "3.10.18"
    }
  }
}