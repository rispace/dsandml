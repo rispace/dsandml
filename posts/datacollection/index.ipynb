{
  "cells": [
    {
      "cell_type": "markdown",
      "metadata": {},
      "source": [
        "# Data collection through Webscraping\n",
        "\n",
        "Rafiq Islam  \n",
        "2024-08-14\n",
        "\n",
        "## Introduction\n",
        "\n",
        "Collecting data and preparing it for a project is one of the most\n",
        "important tasks in any data science or machine learning project. There\n",
        "are many sources from where we can collect data for a project, such as\n",
        "\n",
        "-   Connecting to a SQL database server  \n",
        "-   Data Source Websites such as\n",
        "    <a href=\"https://www.kaggle.com\" target=\"_blank\">Kaggle</a>,\n",
        "    <a href=\"https://datasetsearch.research.google.com\"\n",
        "    target=\"_blank\">Google Dataset Search</a>,\n",
        "    <a href=\"https://archive.ics.uci.edu/datasets\" target=\"_blank\">UCI\n",
        "    Machine Learning Repo</a> etc  \n",
        "-   Web Scraping with Beautiful Soup\n",
        "-   Using Python API\n",
        "\n",
        "## Data Source Websites\n",
        "\n",
        "Data source websites mainly falls into two categories such as data\n",
        "repositories and data science competitions. There are many such\n",
        "websites.\n",
        "\n",
        "1.  The\n",
        "    <a href=\"https://archive.ics.uci.edu/datasets\" target=\"_blank\">UCI\n",
        "    Machine Learning Repository</a>  \n",
        "2.  The <a href=\"https://dataverse.harvard.edu\" target=\"_blank\">Harvard\n",
        "    Dataverse</a>\n",
        "3.  The\n",
        "    <a href=\"https://data.mendeley.com\" target=\"_blank\">Mendeley Data\n",
        "    Repository</a>\n",
        "4.  The <a href=\"https://github.com/fivethirtyeight/data\"\n",
        "    target=\"_blank\">538</a>\n",
        "5.  The\n",
        "    <a href=\"https://github.com/nytimes\" target=\"_blank\">New Yourk Times</a>  \n",
        "6.  The <a\n",
        "    href=\"https://www.competitionsciences.org/competitions/international-data-analysis-olympiad/\"\n",
        "    target=\"_blank\">International Data Analysis Olympiad</a>\n",
        "7.  <a href=\"https://www.kaggle.com\" target=\"_blank\">Kaggle Competition</a>\n",
        "\n",
        "Example of collecting data from\n",
        "<a href=\"https://archive.ics.uci.edu/datasets\" target=\"_blank\">UCI\n",
        "Machine Learning Repository</a>"
      ],
      "id": "b0905af1-a7e9-4fb4-b7f7-a08a3428e146"
    },
    {
      "cell_type": "code",
      "execution_count": 1,
      "metadata": {},
      "outputs": [
        {
          "output_type": "stream",
          "name": "stdout",
          "text": [
            "{'uci_id': 53, 'name': 'Iris', 'repository_url': 'https://archive.ics.uci.edu/dataset/53/iris', 'data_url': 'https://archive.ics.uci.edu/static/public/53/data.csv', 'abstract': 'A small classic dataset from Fisher, 1936. One of the earliest known datasets used for evaluating classification methods.\\n', 'area': 'Biology', 'tasks': ['Classification'], 'characteristics': ['Tabular'], 'num_instances': 150, 'num_features': 4, 'feature_types': ['Real'], 'demographics': [], 'target_col': ['class'], 'index_col': None, 'has_missing_values': 'no', 'missing_values_symbol': None, 'year_of_dataset_creation': 1936, 'last_updated': 'Tue Sep 12 2023', 'dataset_doi': '10.24432/C56C76', 'creators': ['R. A. Fisher'], 'intro_paper': {'ID': 191, 'type': 'NATIVE', 'title': 'The Iris data set: In search of the source of virginica', 'authors': 'A. Unwin, K. Kleinman', 'venue': 'Significance, 2021', 'year': 2021, 'journal': 'Significance, 2021', 'DOI': '1740-9713.01589', 'URL': 'https://www.semanticscholar.org/paper/4599862ea877863669a6a8e63a3c707a787d5d7e', 'sha': None, 'corpus': None, 'arxiv': None, 'mag': None, 'acl': None, 'pmid': None, 'pmcid': None}, 'additional_info': {'summary': 'This is one of the earliest datasets used in the literature on classification methods and widely used in statistics and machine learning.  The data set contains 3 classes of 50 instances each, where each class refers to a type of iris plant.  One class is linearly separable from the other 2; the latter are not linearly separable from each other.\\n\\nPredicted attribute: class of iris plant.\\n\\nThis is an exceedingly simple domain.\\n\\nThis data differs from the data presented in Fishers article (identified by Steve Chadwick,  spchadwick@espeedaz.net ).  The 35th sample should be: 4.9,3.1,1.5,0.2,\"Iris-setosa\" where the error is in the fourth feature. The 38th sample: 4.9,3.6,1.4,0.1,\"Iris-setosa\" where the errors are in the second and third features.  ', 'purpose': 'N/A', 'funded_by': None, 'instances_represent': 'Each instance is a plant', 'recommended_data_splits': None, 'sensitive_data': None, 'preprocessing_description': None, 'variable_info': None, 'citation': None}}\n",
            "           name     role         type demographic  \\\n",
            "0  sepal length  Feature   Continuous        None   \n",
            "1   sepal width  Feature   Continuous        None   \n",
            "2  petal length  Feature   Continuous        None   \n",
            "3   petal width  Feature   Continuous        None   \n",
            "4         class   Target  Categorical        None   \n",
            "\n",
            "                                         description units missing_values  \n",
            "0                                               None    cm             no  \n",
            "1                                               None    cm             no  \n",
            "2                                               None    cm             no  \n",
            "3                                               None    cm             no  \n",
            "4  class of iris plant: Iris Setosa, Iris Versico...  None             no  "
          ]
        }
      ],
      "source": [
        "from ucimlrepo import fetch_ucirepo \n",
        "  \n",
        "# fetch dataset \n",
        "iris = fetch_ucirepo(id=53) \n",
        "  \n",
        "# data (as pandas dataframes) \n",
        "X = iris.data.features \n",
        "y = iris.data.targets \n",
        "  \n",
        "# metadata \n",
        "print(iris.metadata) \n",
        "  \n",
        "# variable information \n",
        "print(iris.variables) "
      ],
      "id": "8aa51198"
    },
    {
      "cell_type": "markdown",
      "metadata": {},
      "source": [
        "you may need to install the\n",
        "<a href=\"https://archive.ics.uci.edu/datasets\" target=\"_blank\">UCI\n",
        "Machine Learning Repository</a> as a package using pip.\n",
        "\n",
        "    pip install ucimlrepo"
      ],
      "id": "f6beb63a-42b5-450a-aa31-ffe500bd78ae"
    },
    {
      "cell_type": "code",
      "execution_count": 2,
      "metadata": {},
      "outputs": [
        {
          "output_type": "display_data",
          "metadata": {},
          "data": {
            "text/html": [
              "\n",
              "</div>"
            ]
          }
        }
      ],
      "source": [
        "X.head()"
      ],
      "id": "16b05674"
    },
    {
      "cell_type": "markdown",
      "metadata": {},
      "source": [
        "## Web Scraping\n",
        "\n",
        "We scrapping is another way of collecting the data for the research if\n",
        "the data is not available in any repositiory. We can collect the data\n",
        "from a website using a library called `BeautifulSoup` if the website has\n",
        "permision for other people to collect data from the website."
      ],
      "id": "9454420e-20f9-4efb-9d02-b5fda6b5cfd8"
    },
    {
      "cell_type": "code",
      "execution_count": 3,
      "metadata": {},
      "outputs": [],
      "source": [
        "import bs4                      # library for BeautifulSoup\n",
        "from bs4 import BeautifulSoup   # import the BeautifulSoup object\n",
        "import pandas as pd\n",
        "import numpy as np\n",
        "import seaborn as sns\n",
        "import matplotlib.pyplot as plt\n",
        "from seaborn import set_style\n",
        "set_style(\"whitegrid\")"
      ],
      "id": "02ec1d9b"
    },
    {
      "cell_type": "markdown",
      "metadata": {},
      "source": [
        "Now let’s make a html object using `BeautifulSoup`. Let’s say we have a\n",
        "html website that looks like below"
      ],
      "id": "7099096f-9b77-45ce-99b7-79a3bd49bc0c"
    },
    {
      "cell_type": "code",
      "execution_count": 4,
      "metadata": {},
      "outputs": [],
      "source": [
        "html_doc=\"\"\"\n",
        "<!DOCTYPE html>\n",
        "<html lang=\"en\">\n",
        "<head>\n",
        "    <title>My Dummy HTML Document</title>\n",
        "</head>\n",
        "<body>\n",
        "    <h1>Welcome to My Dummy HTML Document</h1>\n",
        "    <p>This is a paragraph in my dummy HTML document.</p>\n",
        "    <a href=\"https://mrislambd.github.io/blog\" class=\"blog\" id=\"blog\"> Blog </a>\n",
        "    <a href=\"htpps://mrislambd.github.io/research\" class=\"research\" id=\"research\"> Research </a>\n",
        "</body>\n",
        "</html>\n",
        "\"\"\""
      ],
      "id": "5476c22e"
    },
    {
      "cell_type": "markdown",
      "metadata": {},
      "source": [
        "Now we want to grab information from the dummy html documnet above."
      ],
      "id": "3ebe627d-10f3-4f7c-bb2e-1884c468ea9c"
    },
    {
      "cell_type": "code",
      "execution_count": 5,
      "metadata": {},
      "outputs": [],
      "source": [
        "soup=BeautifulSoup(html_doc, features='html.parser')"
      ],
      "id": "1524a2c0"
    },
    {
      "cell_type": "markdown",
      "metadata": {},
      "source": [
        "Now that we have the object `soup` we can walk through each elements in\n",
        "this object. For example, if we want to grab the title element,"
      ],
      "id": "dae0ddc9-1cec-4c79-b8e4-b3010d940ff8"
    },
    {
      "cell_type": "code",
      "execution_count": 6,
      "metadata": {},
      "outputs": [
        {
          "output_type": "display_data",
          "metadata": {},
          "data": {
            "text/plain": [
              "<title>My Dummy HTML Document</title>"
            ]
          }
        }
      ],
      "source": [
        "soup.html.head.title"
      ],
      "id": "d8102d1b"
    },
    {
      "cell_type": "markdown",
      "metadata": {},
      "source": [
        "Since the html document has only one title, therefore, we can simply use\n",
        "the following command"
      ],
      "id": "5210f2e7-c7da-45a5-b3ad-8bbe30cdf562"
    },
    {
      "cell_type": "code",
      "execution_count": 7,
      "metadata": {},
      "outputs": [
        {
          "output_type": "display_data",
          "metadata": {},
          "data": {
            "text/plain": [
              "<title>My Dummy HTML Document</title>"
            ]
          }
        }
      ],
      "source": [
        "soup.title "
      ],
      "id": "26edd12d"
    },
    {
      "cell_type": "markdown",
      "metadata": {},
      "source": [
        "or this command to get the text only"
      ],
      "id": "abcbf04b-82d9-4394-bc92-97b1f1116170"
    },
    {
      "cell_type": "code",
      "execution_count": 8,
      "metadata": {},
      "outputs": [
        {
          "output_type": "display_data",
          "metadata": {},
          "data": {
            "text/plain": [
              "'My Dummy HTML Document'"
            ]
          }
        }
      ],
      "source": [
        "soup.title.text"
      ],
      "id": "2c975015"
    },
    {
      "cell_type": "markdown",
      "metadata": {},
      "source": [
        "This `soup` object is like a family tree. It has parents, children,\n",
        "greatgrand parents etc."
      ],
      "id": "241a9a31-08d4-44aa-a160-01614a522bdd"
    },
    {
      "cell_type": "code",
      "execution_count": 9,
      "metadata": {},
      "outputs": [
        {
          "output_type": "display_data",
          "metadata": {},
          "data": {
            "text/plain": [
              "<head>\n",
              "<title>My Dummy HTML Document</title>\n",
              "</head>"
            ]
          }
        }
      ],
      "source": [
        "soup.title.parent"
      ],
      "id": "edb0effb"
    },
    {
      "cell_type": "markdown",
      "metadata": {},
      "source": [
        "Now to grab an attribute from the `soup` object we can use"
      ],
      "id": "4e34cef8-e4ed-4d06-bdac-2c2da42f70a5"
    },
    {
      "cell_type": "code",
      "execution_count": 10,
      "metadata": {},
      "outputs": [
        {
          "output_type": "display_data",
          "metadata": {},
          "data": {
            "text/plain": [
              "<a class=\"blog\" href=\"https://mrislambd.github.io/blog\" id=\"blog\"> Blog </a>"
            ]
          }
        }
      ],
      "source": [
        "soup.a"
      ],
      "id": "bfd0ad36"
    },
    {
      "cell_type": "markdown",
      "metadata": {},
      "source": [
        "or any particular thing from the attribute"
      ],
      "id": "606b59b0-9df6-47dd-b927-8b1832815ec1"
    },
    {
      "cell_type": "code",
      "execution_count": 11,
      "metadata": {},
      "outputs": [
        {
          "output_type": "display_data",
          "metadata": {},
          "data": {
            "text/plain": [
              "['blog']"
            ]
          }
        }
      ],
      "source": [
        "soup.a['class']"
      ],
      "id": "ed57c9b0"
    },
    {
      "cell_type": "markdown",
      "metadata": {},
      "source": [
        "We can also find multiple attribute of the same kind"
      ],
      "id": "44590ef3-8883-44a2-a7c6-124f26aefd82"
    },
    {
      "cell_type": "code",
      "execution_count": 12,
      "metadata": {},
      "outputs": [
        {
          "output_type": "stream",
          "name": "stderr",
          "text": [
            "/tmp/ipykernel_6794/2082462312.py:1: DeprecationWarning:\n",
            "\n",
            "Call to deprecated method findAll. (Replaced by find_all) -- Deprecated since version 4.0.0.\n"
          ]
        },
        {
          "output_type": "display_data",
          "metadata": {},
          "data": {
            "text/plain": [
              "[<a class=\"blog\" href=\"https://mrislambd.github.io/blog\" id=\"blog\"> Blog </a>,\n",
              " <a class=\"research\" href=\"htpps://mrislambd.github.io/research\" id=\"research\"> Research </a>]"
            ]
          }
        }
      ],
      "source": [
        "soup.findAll('a')"
      ],
      "id": "00373d79"
    },
    {
      "cell_type": "markdown",
      "metadata": {},
      "source": [
        "Then if we want any particular object from all `a` attribute"
      ],
      "id": "518efe38-3682-4485-bd45-7fe5127fd56e"
    },
    {
      "cell_type": "code",
      "execution_count": 13,
      "metadata": {},
      "outputs": [
        {
          "output_type": "stream",
          "name": "stderr",
          "text": [
            "/tmp/ipykernel_6794/2617565345.py:1: DeprecationWarning:\n",
            "\n",
            "Call to deprecated method findAll. (Replaced by find_all) -- Deprecated since version 4.0.0.\n"
          ]
        },
        {
          "output_type": "display_data",
          "metadata": {},
          "data": {
            "text/plain": [
              "'blog'"
            ]
          }
        }
      ],
      "source": [
        "soup.findAll('a')[0]['id']"
      ],
      "id": "c046ab06"
    },
    {
      "cell_type": "markdown",
      "metadata": {},
      "source": [
        "For any `p` tag"
      ],
      "id": "a8cf4dd6-a02a-421e-9698-4aad3519ac0a"
    },
    {
      "cell_type": "code",
      "execution_count": 14,
      "metadata": {},
      "outputs": [
        {
          "output_type": "display_data",
          "metadata": {},
          "data": {
            "text/plain": [
              "'This is a paragraph in my dummy HTML document.'"
            ]
          }
        }
      ],
      "source": [
        "soup.p.text "
      ],
      "id": "bac2b026"
    },
    {
      "cell_type": "markdown",
      "metadata": {},
      "source": [
        "Similarly, if we want to grab all the `href`s from the `a` tags"
      ],
      "id": "ee58523f-6d3d-487a-aa78-6dda4f085633"
    },
    {
      "cell_type": "code",
      "execution_count": 15,
      "metadata": {},
      "outputs": [
        {
          "output_type": "stream",
          "name": "stderr",
          "text": [
            "/tmp/ipykernel_6794/1829196164.py:1: DeprecationWarning:\n",
            "\n",
            "Call to deprecated method findAll. (Replaced by find_all) -- Deprecated since version 4.0.0.\n"
          ]
        },
        {
          "output_type": "display_data",
          "metadata": {},
          "data": {
            "text/plain": [
              "['https://mrislambd.github.io/blog', 'htpps://mrislambd.github.io/research']"
            ]
          }
        }
      ],
      "source": [
        "[h['href'] for h in soup.findAll('a')]"
      ],
      "id": "33e106e4"
    },
    {
      "cell_type": "markdown",
      "metadata": {},
      "source": [
        "## Example of Webscraping from a real website\n",
        "\n",
        "In this example we want to obtain some information from\n",
        "<a href=\"https://research.nvidia.com/graduate-fellowships/archive\"\n",
        "target=\"_blank\">NVIDIA Graduate Fellowship Program</a>. Before accessing\n",
        "this website we need to know if we have permision to access their data\n",
        "through webscraping."
      ],
      "id": "f8bf2dbd-80c6-4357-95d9-a213bbd1c805"
    },
    {
      "cell_type": "code",
      "execution_count": 16,
      "metadata": {},
      "outputs": [
        {
          "output_type": "display_data",
          "metadata": {},
          "data": {
            "text/plain": [
              "200"
            ]
          }
        }
      ],
      "source": [
        "import requests\n",
        "response = requests.get(url=\"https://research.nvidia.com/graduate-fellowships/archive\")\n",
        "response.status_code"
      ],
      "id": "becdb3aa"
    },
    {
      "cell_type": "markdown",
      "metadata": {},
      "source": [
        "The `status_code` $200$ ensures that we have enough permision to acccess\n",
        "their website data. However, if we obtain `status_code` of $403, 400,$\n",
        "or $500$ then we do not permision or a `bad request`. For more about the\n",
        "status codes\n",
        "<a href=\"https://developer.mozilla.org/en-US/docs/Web/HTTP/Status\"\n",
        "target=\"_blank\">click here</a>."
      ],
      "id": "d5939b22-64b6-4517-a401-d12f375d3108"
    },
    {
      "cell_type": "code",
      "execution_count": 17,
      "metadata": {},
      "outputs": [],
      "source": [
        "soup = BeautifulSoup(response.text, 'html.parser')"
      ],
      "id": "b05e5f9b"
    },
    {
      "cell_type": "markdown",
      "metadata": {},
      "source": [
        "We want to make an analysis based on the institution of the past\n",
        "graduate fellows. Insepecting the elements in\n",
        "<a href=\"https://developer.mozilla.org/en-US/docs/Web/HTTP/Status\"\n",
        "target=\"_blank\">this website</a> we see that the `div` those have\n",
        "`class=\"archive-group\"` contains the information of the past graduate\n",
        "fellows."
      ],
      "id": "c4136b52-7178-49d7-92b1-e07e95aa1540"
    },
    {
      "cell_type": "code",
      "execution_count": 18,
      "metadata": {},
      "outputs": [],
      "source": [
        "pf = soup.find_all(\"div\", class_=\"archive-group\")"
      ],
      "id": "83ea897e"
    },
    {
      "cell_type": "markdown",
      "metadata": {},
      "source": [
        "and the first element of this `pf` contains the information of the\n",
        "graduate fellows in the year of 2021."
      ],
      "id": "d30ce3f0-b1ca-4ff5-a9ee-a2384799109d"
    },
    {
      "cell_type": "code",
      "execution_count": 19,
      "metadata": {},
      "outputs": [
        {
          "output_type": "display_data",
          "metadata": {},
          "data": {
            "text/plain": [
              "<div class=\"archive-group\">\n",
              "<h4 class=\"archive-group__title\">2022 Grad Fellows</h4>\n",
              "<div class=\"views-row\"><div class=\"views-field views-field-title\"><span class=\"field-content\">Davis Rempe</span></div><div class=\"views-field views-field-field-grad-fellow-institution\"><div class=\"field-content\">Stanford University</div></div></div>\n",
              "<div class=\"views-row\"><div class=\"views-field views-field-title\"><span class=\"field-content\">Enze Xie (Finalist)</span></div><div class=\"views-field views-field-field-grad-fellow-institution\"><div class=\"field-content\">University of Hong Kong</div></div></div>\n",
              "<div class=\"views-row\"><div class=\"views-field views-field-title\"><span class=\"field-content\">Gokul Swamy (Finalist)</span></div><div class=\"views-field views-field-field-grad-fellow-institution\"><div class=\"field-content\">Carnegie Mellon University</div></div></div>\n",
              "<div class=\"views-row\"><div class=\"views-field views-field-title\"><span class=\"field-content\">Hao Chen</span></div><div class=\"views-field views-field-field-grad-fellow-institution\"><div class=\"field-content\">University of Texas at Austin</div></div></div>\n",
              "<div class=\"views-row\"><div class=\"views-field views-field-title\"><span class=\"field-content\">Hong-Xing (Koven) Yu (Finalist)</span></div><div class=\"views-field views-field-field-grad-fellow-institution\"><div class=\"field-content\">Stanford University</div></div></div>\n",
              "<div class=\"views-row\"><div class=\"views-field views-field-title\"><span class=\"field-content\">Mohit Shridhar</span></div><div class=\"views-field views-field-field-grad-fellow-institution\"><div class=\"field-content\">University of Washington</div></div></div>\n",
              "<div class=\"views-row\"><div class=\"views-field views-field-title\"><span class=\"field-content\">Sai Praveen Bangaru</span></div><div class=\"views-field views-field-field-grad-fellow-institution\"><div class=\"field-content\">Massachusetts Institute of Technology</div></div></div>\n",
              "<div class=\"views-row\"><div class=\"views-field views-field-title\"><span class=\"field-content\">Shlomi Steinberg</span></div><div class=\"views-field views-field-field-grad-fellow-institution\"><div class=\"field-content\">University of California, Santa Barbara </div></div></div>\n",
              "<div class=\"views-row\"><div class=\"views-field views-field-title\"><span class=\"field-content\">Sneha D. Goenka</span></div><div class=\"views-field views-field-field-grad-fellow-institution\"><div class=\"field-content\">Stanford University</div></div></div>\n",
              "<div class=\"views-row\"><div class=\"views-field views-field-title\"><span class=\"field-content\">Suyeon Choi (Finalist)</span></div><div class=\"views-field views-field-field-grad-fellow-institution\"><div class=\"field-content\">Stanford University</div></div></div>\n",
              "<div class=\"views-row\"><div class=\"views-field views-field-title\"><span class=\"field-content\">Yash Sharma (Finalist)</span></div><div class=\"views-field views-field-field-grad-fellow-institution\"><div class=\"field-content\">University of Tübingen</div></div></div>\n",
              "<div class=\"views-row\"><div class=\"views-field views-field-title\"><span class=\"field-content\">Yufei Ye</span></div><div class=\"views-field views-field-field-grad-fellow-institution\"><div class=\"field-content\">Carnegie Mellon University</div></div></div>\n",
              "<div class=\"views-row\"><div class=\"views-field views-field-title\"><span class=\"field-content\">Yuke Wang</span></div><div class=\"views-field views-field-field-grad-fellow-institution\"><div class=\"field-content\">University of California, Santa Barbara </div></div></div>\n",
              "<div class=\"views-row\"><div class=\"views-field views-field-title\"><span class=\"field-content\">Yuntian Deng</span></div><div class=\"views-field views-field-field-grad-fellow-institution\"><div class=\"field-content\">Harvard University</div></div></div>\n",
              "<div class=\"views-row\"><div class=\"views-field views-field-title\"><span class=\"field-content\">Zekun Hao</span></div><div class=\"views-field views-field-field-grad-fellow-institution\"><div class=\"field-content\">Cornell University</div></div></div>\n",
              "</div>"
            ]
          }
        }
      ],
      "source": [
        "pf[0]"
      ],
      "id": "36b796f0"
    },
    {
      "cell_type": "markdown",
      "metadata": {},
      "source": [
        "Now let’s make a `pandas` dataframe using the information in this page.\n",
        "We can make an use of the output from the above chunk. To grab the year,\n",
        "we see that `archive-group__title` class with a `h4` tag contains the\n",
        "year for all years. With `strip=True`, the text is cleaned by removing\n",
        "extra whitespace from the beginning and end. We need the first element\n",
        "so a `split()[0]` will do the job. Then we make another group called\n",
        "`fellows` that contains the fellows in a certian year by using the `div`\n",
        "and `class\"views-row\"`. Once the new group created, we then iterate\n",
        "through this group to extract their names and corresponding\n",
        "institutions."
      ],
      "id": "4e7c1dd0-a9a9-4562-a925-79b272b3f35b"
    },
    {
      "cell_type": "code",
      "execution_count": 20,
      "metadata": {},
      "outputs": [
        {
          "output_type": "display_data",
          "metadata": {},
          "data": {
            "text/html": [
              "\n",
              "</div>"
            ]
          }
        }
      ],
      "source": [
        "data=[]\n",
        "\n",
        "for group in pf:\n",
        "    year = group.find(\n",
        "        \"h4\",class_=\"archive-group__title\"\n",
        "        ).get_text(strip=True).split()[0]\n",
        "\n",
        "    fellows = group.find_all(\"div\", class_=\"views-row\")\n",
        "    for fellow in fellows:\n",
        "        name = fellow.find(\n",
        "            \"div\", class_=\"views-field-title\"\n",
        "            ).get_text(strip=True) \n",
        "        institute = fellow.find(\n",
        "            \"div\", class_=\"views-field-field-grad-fellow-institution\"\n",
        "            ).get_text(strip=True)\n",
        "\n",
        "        data.append({\"Name\": name, \"Year\": year, \"Institute\": institute})\n",
        "\n",
        "data=pd.DataFrame(data)\n",
        "data.head()"
      ],
      "id": "21039806"
    },
    {
      "cell_type": "markdown",
      "metadata": {},
      "source": [
        "Now let’s perform some Exploratory Data Analysis (EDA). First, we\n",
        "analyze the unique values and distributions."
      ],
      "id": "aa67a5fd-d5ee-4157-ae0c-907cbb855f67"
    },
    {
      "cell_type": "code",
      "execution_count": 21,
      "metadata": {},
      "outputs": [
        {
          "output_type": "stream",
          "name": "stdout",
          "text": [
            "Year   2018  2022  2019  2017  2015  2006  2012  2011  2016  2007  ...  2021  \\\n",
            "Count    16    15    15    15    12    12    11    11    11    11  ...    10   \n",
            "\n",
            "Year   2020  2003  2014  2008  2009  2010  2005  2004  2002  \n",
            "Count    10    10    10    10    10     9     8     7     6  \n",
            "\n",
            "[1 rows x 21 columns]"
          ]
        }
      ],
      "source": [
        "# Count the number of fellows each year\n",
        "year_counts = data['Year'].value_counts().sort_values(ascending=False)\n",
        "# Create a DataFrame where years are columns and counts are values in the next row\n",
        "year_data = {\n",
        "    'Year': year_counts.index,\n",
        "    'Count': year_counts.values\n",
        "}\n",
        "# Create the DataFrame\n",
        "year_data_counts = pd.DataFrame(year_data)\n",
        "\n",
        "# Transpose the DataFrame and reset index to get years as columns\n",
        "year_data_counts = year_data_counts.set_index('Year').T\n",
        "\n",
        "# Display the DataFrame\n",
        "print(year_data_counts)"
      ],
      "id": "e78622e2"
    },
    {
      "cell_type": "markdown",
      "metadata": {},
      "source": [
        "Next we see that most represented universities"
      ],
      "id": "cf86f5c0-5b28-4137-b0da-2c1ceee05499"
    },
    {
      "cell_type": "code",
      "execution_count": 22,
      "metadata": {},
      "outputs": [
        {
          "output_type": "stream",
          "name": "stdout",
          "text": [
            "Institute\n",
            "Stanford University                         28\n",
            "Massachusetts Institute of Technology       21\n",
            "Carnegie Mellon University                  17\n",
            "University of California, Berkeley          16\n",
            "University of Washington                    10\n",
            "University of Utah                          10\n",
            "Georgia Institute of Technology              9\n",
            "University of Illinois, Urbana-Champaign     9\n",
            "University of California, Davis              9\n",
            "Cornell University                           7\n",
            "Name: count, dtype: int64"
          ]
        }
      ],
      "source": [
        "university_counts = data['Institute'].value_counts()\n",
        "print(university_counts.head(10))  # Display the top 10 universities"
      ],
      "id": "901e711e"
    },
    {
      "cell_type": "markdown",
      "metadata": {},
      "source": [
        "To visualize the award distributions per year,"
      ],
      "id": "2c1664e6-99be-4876-9c5b-71dfeda57696"
    },
    {
      "cell_type": "code",
      "execution_count": 23,
      "metadata": {},
      "outputs": [
        {
          "output_type": "display_data",
          "metadata": {},
          "data": {
            "image/png": "[encoded data removed]"
          }
        }
      ],
      "source": [
        "plt.figure(figsize=(9,5))\n",
        "sns.countplot(x='Year', data=data, order=sorted(data['Year'].unique()))\n",
        "plt.gca().set_facecolor('#f4f4f4') \n",
        "plt.gcf().patch.set_facecolor('#f4f4f4')\n",
        "plt.title('Number of Fellows Per Year')\n",
        "plt.show()"
      ],
      "id": "6f569888"
    },
    {
      "cell_type": "markdown",
      "metadata": {},
      "source": [
        "Top 10 universities visualization"
      ],
      "id": "1f04734a-5807-415c-9303-9ffdbea42906"
    },
    {
      "cell_type": "code",
      "execution_count": 24,
      "metadata": {},
      "outputs": [
        {
          "output_type": "display_data",
          "metadata": {},
          "data": {
            "image/png": "[encoded data removed]"
          }
        }
      ],
      "source": [
        "plt.figure(figsize=(6,4))\n",
        "top_universities = data['Institute'].value_counts().head(10)\n",
        "sns.barplot(y=top_universities.index, x=top_universities.values)\n",
        "plt.gca().set_facecolor('#f4f4f4') \n",
        "plt.gcf().patch.set_facecolor('#f4f4f4')\n",
        "plt.title('Top 10 Universities by Number of Fellows')\n",
        "plt.xlabel('Number of Fellows')\n",
        "plt.ylabel('University')\n",
        "plt.show()"
      ],
      "id": "4ffc6867"
    },
    {
      "cell_type": "markdown",
      "metadata": {},
      "source": [
        "Trend over time"
      ],
      "id": "4cf4e279-f5a0-40be-9771-97379fb31497"
    },
    {
      "cell_type": "code",
      "execution_count": 25,
      "metadata": {},
      "outputs": [
        {
          "output_type": "display_data",
          "metadata": {},
          "data": {
            "image/png": "[encoded data removed]"
          }
        }
      ],
      "source": [
        "plt.figure(figsize=(9,5))\n",
        "data['Year'] = data['Year'].astype(int)  \n",
        "yearly_trend = data.groupby('Year').size()\n",
        "yearly_trend.plot(kind='line', marker='o')\n",
        "plt.gca().set_facecolor('#f4f4f4') \n",
        "plt.gcf().patch.set_facecolor('#f4f4f4')\n",
        "plt.title('Trend of Fellows Over Time')\n",
        "plt.xlabel('Year')\n",
        "plt.ylabel('Number of Fellows')\n",
        "plt.show()"
      ],
      "id": "03bb9ceb"
    },
    {
      "cell_type": "markdown",
      "metadata": {},
      "source": [
        "This is just a simple example of collecting data through webscraping.\n",
        "This `BeautifulSoup` has endless potentials to use in many projects to\n",
        "collect the data that are not publicly available in cleaned or organized\n",
        "form. Thank you for reading.\n",
        "\n",
        "## References\n",
        "\n",
        "-   <a href=\"https://doi.org/10.24432/C56C76.\" target=\"_blank\">Fisher,R. A..\n",
        "    (1988). Iris. UCI Machine Learning Repository.</a>\n",
        "\n",
        "**Share on**\n",
        "\n",
        "<a href=\"https://www.facebook.com/sharer.php?u=https://mrislambd.github.io/dsandml/posts/datacollection/\" target=\"_blank\" style=\"color:#1877F2; text-decoration: none;\">\n",
        "\n",
        "</a>\n",
        "\n",
        "<a href=\"https://www.linkedin.com/sharing/share-offsite/?url=https://mrislambd.github.io/dsandml/posts/datacollection/\" target=\"_blank\" style=\"color:#0077B5; text-decoration: none;\">\n",
        "\n",
        "</a>\n",
        "\n",
        "<a href=\"https://www.twitter.com/intent/tweet?url=https://mrislambd.github.io/dsandml/posts/datacollection/\" target=\"_blank\" style=\"color:#1DA1F2; text-decoration: none;\">\n",
        "\n",
        "</a>"
      ],
      "id": "b1d8adb5-0f86-4d44-baff-8c5a59e57664"
    },
    {
      "cell_type": "raw",
      "metadata": {
        "raw_mimetype": "text/html"
      },
      "source": [
        "<script src=\"https://giscus.app/client.js\"\n",
        "        data-repo=\"mrislambd/mrislambd.github.io\" \n",
        "        data-repo-id=\"R_kgDOMV8crA\"\n",
        "        data-category=\"Announcements\"\n",
        "        data-category-id=\"DIC_kwDOMV8crM4CjbQW\"\n",
        "        data-mapping=\"pathname\"\n",
        "        data-strict=\"0\"\n",
        "        data-reactions-enabled=\"1\"\n",
        "        data-emit-metadata=\"0\"\n",
        "        data-input-position=\"bottom\"\n",
        "        data-theme=\"light\"\n",
        "        data-lang=\"en\"\n",
        "        crossorigin=\"anonymous\"\n",
        "        async>\n",
        "</script>"
      ],
      "id": "0bf8a310-4c8a-4561-bce7-1788634c2452"
    },
    {
      "cell_type": "markdown",
      "metadata": {},
      "source": [],
      "id": "36d2f493-9e03-4d27-aabd-94196d1653d0"
    },
    {
      "cell_type": "raw",
      "metadata": {
        "raw_mimetype": "text/html"
      },
      "source": [
        "<script async defer crossorigin=\"anonymous\"\n",
        " src=\"https://connect.facebook.net/en_US/sdk.js#xfbml=1&version=v20.0\"></script>"
      ],
      "id": "a5cb383e-12ef-4a2e-a629-106349d9e743"
    },
    {
      "cell_type": "markdown",
      "metadata": {},
      "source": [
        "**You may also like**"
      ],
      "id": "8f19bcd0-cf10-4963-b2c7-bd650d81ac78"
    }
  ],
  "nbformat": 4,
  "nbformat_minor": 5,
  "metadata": {
    "kernelspec": {
      "name": "python3",
      "display_name": "Python 3 (ipykernel)",
      "language": "python",
      "path": "/opt/hostedtoolcache/Python/3.10.18/x64/share/jupyter/kernels/python3"
    },
    "language_info": {
      "name": "python",
      "codemirror_mode": {
        "name": "ipython",
        "version": "3"
      },
      "file_extension": ".py",
      "mimetype": "text/x-python",
      "nbconvert_exporter": "python",
      "pygments_lexer": "ipython3",
      "version": "3.10.18"
    }
  }
}