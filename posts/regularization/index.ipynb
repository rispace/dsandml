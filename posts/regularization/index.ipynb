{
  "cells": [
    {
      "cell_type": "markdown",
      "metadata": {},
      "source": [
        "# Model Fine Tuning: Regularization\n",
        "\n",
        "Rafiq Islam  \n",
        "2024-09-24\n",
        "\n",
        "## Introduction"
      ],
      "id": "941ab543-3429-4333-9af2-d41737aa742c"
    },
    {
      "cell_type": "raw",
      "metadata": {
        "raw_mimetype": "text/html"
      },
      "source": [
        "<p style=\"text-align:justify\">"
      ],
      "id": "8f4e5267-7dd5-4437-b329-211b4596864a"
    },
    {
      "cell_type": "markdown",
      "metadata": {},
      "source": [
        "Regularization is a key concept in machine learning that helps prevent\n",
        "overfitting, improve model generalization, and make models more robust\n",
        "to new data. It adds a penalty to the loss function to discourage the\n",
        "model from fitting the noise in the training data, which leads to\n",
        "**overfitting**."
      ],
      "id": "61c60738-8cce-4155-822d-727caa9b86d9"
    },
    {
      "cell_type": "raw",
      "metadata": {
        "raw_mimetype": "text/html"
      },
      "source": [
        "</p>"
      ],
      "id": "a9bf0f40-e186-400b-91f1-10695f66254c"
    },
    {
      "cell_type": "markdown",
      "metadata": {},
      "source": [
        "-   **Overfitting** occurs when a model performs well on the training\n",
        "    data but fails to generalize to new, unseen data. This happens when\n",
        "    the model is too complex and captures both the signal and the noise\n",
        "    in the data.\n",
        "\n",
        "-   **Underfitting**, on the other hand, happens when a model is too\n",
        "    simple to capture the underlying patterns in the data, resulting in\n",
        "    poor performance even on the training set."
      ],
      "id": "96e59dbc-e422-4fc8-9136-2debf232c5c9"
    },
    {
      "cell_type": "raw",
      "metadata": {
        "raw_mimetype": "text/html"
      },
      "source": [
        "<p style=\"text-align:justify\">"
      ],
      "id": "f14a6b92-6e07-411f-b594-c2d240c83c20"
    },
    {
      "cell_type": "markdown",
      "metadata": {},
      "source": [
        "Regularization helps strike a balance between overfitting and\n",
        "underfitting by controlling model complexity and encouraging simpler\n",
        "models that generalize better."
      ],
      "id": "b0544800-784b-43f1-9f56-361f0ad79855"
    },
    {
      "cell_type": "raw",
      "metadata": {
        "raw_mimetype": "text/html"
      },
      "source": [
        "</p>"
      ],
      "id": "bb6246ef-b81b-48bb-974c-df73854379f8"
    },
    {
      "cell_type": "markdown",
      "metadata": {},
      "source": [
        "## Types of Regularization\n",
        "\n",
        "There are several types of regularization techniques used in machine\n",
        "learning, with the most common being:\n",
        "\n",
        "-   **$L_2$ Regularization (Ridge Regression)**\n",
        "-   **$L_1$ Regularization (Lasso Regression)**\n",
        "-   **Elastic Net Regularization**\n",
        "-   **Dropout (for neural networks)**\n",
        "\n",
        "Here we will discus the first two kind only.\n",
        "\n",
        "------------------------------------------------------------------------\n",
        "\n",
        "## $L_2$ Regularization (Ridge Regression)"
      ],
      "id": "486998ca-c8bc-4c90-ba14-728bb29c79e5"
    },
    {
      "cell_type": "raw",
      "metadata": {
        "raw_mimetype": "text/html"
      },
      "source": [
        "<p style=\"text-align: justify\">"
      ],
      "id": "069d59e4-c85a-460b-83dd-bd19e6ed9f8e"
    },
    {
      "cell_type": "markdown",
      "metadata": {},
      "source": [
        "**$L_2$ regularization** (also known as **Ridge regression** in linear\n",
        "models) adds a penalty term to the loss function proportional to the sum\n",
        "of the squared coefficients (weights) of the model. The goal is to\n",
        "minimize both the original loss function and the magnitude of the\n",
        "coefficients."
      ],
      "id": "67f558d9-6298-4d5e-9b8c-cbd216e07719"
    },
    {
      "cell_type": "raw",
      "metadata": {
        "raw_mimetype": "text/html"
      },
      "source": [
        "</p>"
      ],
      "id": "055d3def-3d61-4164-93d7-d4d7d133db4e"
    },
    {
      "cell_type": "markdown",
      "metadata": {},
      "source": [
        "For a linear regression model, the objective is to minimize the\n",
        "following regularized loss function:\n",
        "\n",
        "$$\n",
        "J(\\theta) = \\frac{1}{n} \\sum_{i=1}^{n} (y_i - \\hat{y_i})^2 + \\lambda \\sum_{j=1}^{p} \\theta_j^2\n",
        "$$\n",
        "\n",
        "Where:\n",
        "\n",
        "-   $\\hat{y_i}$ is the model’s predicted output for input $x_i$.\n",
        "-   $y_i$ is the true target value.\n",
        "-   $\\theta_j$ are the model parameters (coefficients).\n",
        "-   $\\lambda$ is the regularization strength, controlling the magnitude\n",
        "    of the penalty (higher $\\lambda$ increases regularization).\n",
        "\n",
        "**More about $\\lambda$**\n",
        "\n",
        "-   $\\lambda$ is a continuous non-negative scaler value, typically a\n",
        "    floating-point number.  \n",
        "-   Minimum $\\lambda=0$, model becomes the standard linear regression\n",
        "    model. For smaller $\\lambda$ the regularization effect is minimal,\n",
        "    allowing the model to fit the training data more closely.\n",
        "-   In theory, there is no upper bound for $\\lambda$. However, as\n",
        "    $\\lambda$ increases, the model becomes more regularized, and the\n",
        "    coefficients tend to shrink toward zero."
      ],
      "id": "4ec12059-d471-49c2-b0bc-cdd9297dae2d"
    },
    {
      "cell_type": "raw",
      "metadata": {
        "raw_mimetype": "text/html"
      },
      "source": [
        "<p style=\"text-align:justify\">"
      ],
      "id": "00f180cc-fb57-44c2-9a34-f5c31c95b3cc"
    },
    {
      "cell_type": "markdown",
      "metadata": {},
      "source": [
        "Selecting the optimal value of $\\lambda$ is crucial. Typically, it’s\n",
        "done via cross-validation, where different values of $\\lambda$ are\n",
        "tried, and the model is evaluated based on its performance on the\n",
        "validation set. The value that results in the best generalization is\n",
        "selected."
      ],
      "id": "c747e523-61e9-4868-930d-839141100c6c"
    },
    {
      "cell_type": "raw",
      "metadata": {
        "raw_mimetype": "text/html"
      },
      "source": [
        "</p>"
      ],
      "id": "d2fb85f4-7775-4f68-84d1-37e380007f14"
    },
    {
      "cell_type": "markdown",
      "metadata": {},
      "source": [
        "$L_2$ regularization shrinks the coefficients towards zero but doesn’t\n",
        "force them to be exactly zero, thus retaining all features in the model."
      ],
      "id": "19bfc43e-a7f0-4198-8835-f155d851db6e"
    },
    {
      "cell_type": "code",
      "execution_count": 1,
      "metadata": {},
      "outputs": [
        {
          "output_type": "stream",
          "name": "stdout",
          "text": [
            "Mean Squared Error (Linear Regression): 0.92\n",
            "Mean Squared Error (Ridge Regression): 0.92"
          ]
        },
        {
          "output_type": "display_data",
          "metadata": {},
          "data": {
            "image/png": "[encoded data removed]"
          }
        }
      ],
      "source": [
        "import numpy as np\n",
        "import matplotlib.pyplot as plt\n",
        "from sklearn.linear_model import Ridge,LinearRegression\n",
        "from sklearn.model_selection import train_test_split\n",
        "from sklearn.preprocessing import StandardScaler\n",
        "from sklearn.metrics import mean_squared_error\n",
        "\n",
        "# Generate synthetic data\n",
        "np.random.seed(0)\n",
        "X = 2 * np.random.rand(100, 1)\n",
        "y = 4 + 3 * X + np.random.randn(100, 1)\n",
        "\n",
        "# Split the data into training and test sets\n",
        "X_train, X_test, y_train, y_test = train_test_split(X, y, test_size=0.2, random_state=42)\n",
        "\n",
        "# LinearRegression model \n",
        "linear_model = LinearRegression()\n",
        "linear_model.fit(X_train,y_train)\n",
        "y_pred_linear = linear_model.predict(X_test)\n",
        "mse_linear = mean_squared_error(y_test, y_pred_linear)\n",
        "print(f\"Mean Squared Error (Linear Regression): {mse_linear:.2f}\")\n",
        "\n",
        "# Train Ridge regression model (L2 Regularization)\n",
        "sc = StandardScaler()\n",
        "X_train_sc = sc.fit_transform(X_train)\n",
        "X_test_sc = sc.transform(X_test)\n",
        "ridge_model = Ridge(alpha=10)  # alpha is the regularization strength (lambda)\n",
        "ridge_model.fit(X_train_sc, y_train)\n",
        "\n",
        "# Predictions and evaluation\n",
        "y_pred_ridge = ridge_model.predict(X_test_sc)\n",
        "mse_ridge = mean_squared_error(y_test, y_pred_ridge)\n",
        "print(f\"Mean Squared Error (Ridge Regression): {mse_ridge:.2f}\")\n",
        "\n",
        "# Plot the results\n",
        "plt.scatter(X_test, y_test, color='blue', label='True Data')\n",
        "plt.plot(X_test, y_pred_linear, color='green', label='Linear Prediction')\n",
        "plt.plot(X_test, y_pred_ridge, color='red', label='Ridge Prediction')\n",
        "plt.xlabel('X')\n",
        "plt.ylabel('y')\n",
        "plt.title('Ridge Regularization')\n",
        "plt.legend()\n",
        "plt.gca().set_facecolor('#f4f4f4') \n",
        "plt.gcf().patch.set_facecolor('#f4f4f4')\n",
        "plt.savefig('rg.png')\n",
        "plt.show()"
      ],
      "id": "9479ce55"
    },
    {
      "cell_type": "markdown",
      "metadata": {},
      "source": [
        "In this example, `alpha` corresponds to $\\lambda$, the regularization\n",
        "strength. A higher value of `alpha` will result in stronger\n",
        "regularization, shrinking the model coefficients more.\n",
        "\n",
        "------------------------------------------------------------------------\n",
        "\n",
        "## $L_1$ Regularization (Lasso Regression)\n",
        "\n",
        "**$L_1$ regularization** (also known as **Lasso regression**) adds a\n",
        "penalty term proportional to the sum of the absolute values of the\n",
        "coefficients. This type of regularization can force some coefficients to\n",
        "be exactly zero, effectively performing feature selection.\n",
        "\n",
        "The objective function for L1 regularization is:\n",
        "\n",
        "$$\n",
        "J(\\theta) = \\frac{1}{n} \\sum_{i=1}^{n} (y_i - \\hat{y_i})^2 + \\lambda \\sum_{j=1}^{p} |\\theta_j|\n",
        "$$\n",
        "\n",
        "Where:\n",
        "\n",
        "-   The terms are the same as those for $L_2$ regularization.\n",
        "-   The penalty is the absolute value of the coefficients instead of the\n",
        "    squared value.\n",
        "\n",
        "$L_1$ regularization has the effect of making some coefficients exactly\n",
        "zero, which means it can be used to reduce the number of features in the\n",
        "model."
      ],
      "id": "a6d46eb2-8b2f-45a8-ae73-af33edf23ee0"
    },
    {
      "cell_type": "code",
      "execution_count": 2,
      "metadata": {},
      "outputs": [
        {
          "output_type": "stream",
          "name": "stdout",
          "text": [
            "Mean Squared Error (Linear Regression): 0.92\n",
            "Mean Squared Error (Lasso Regression): 1.02"
          ]
        },
        {
          "output_type": "display_data",
          "metadata": {},
          "data": {
            "image/png": "[encoded data removed]"
          }
        }
      ],
      "source": [
        "from sklearn.linear_model import Lasso\n",
        "\n",
        "print(f\"Mean Squared Error (Linear Regression): {mse_linear:.2f}\")\n",
        "\n",
        "# Train Lasso regression model (L1 Regularization)\n",
        "lasso_model = Lasso(alpha=.5)  # alpha is the regularization strength (lambda)\n",
        "lasso_model.fit(X_train_sc, y_train)\n",
        "\n",
        "# Predictions and evaluation\n",
        "y_pred_lasso = lasso_model.predict(X_test_sc)\n",
        "mse_lasso = mean_squared_error(y_test, y_pred_lasso)\n",
        "print(f\"Mean Squared Error (Lasso Regression): {mse_lasso:.2f}\")\n",
        "\n",
        "# Plot the results\n",
        "plt.scatter(X_test, y_test, color='blue', label='Data')\n",
        "plt.plot(X_test, y_pred_linear, color='red', label='Linear Prediction')\n",
        "plt.plot(X_test, y_pred_lasso, color='green', label='Lasso Prediction')\n",
        "plt.xlabel('X')\n",
        "plt.ylabel('y')\n",
        "plt.title('Lasso Regularization')\n",
        "plt.legend()\n",
        "plt.gca().set_facecolor('#f4f4f4') \n",
        "plt.gcf().patch.set_facecolor('#f4f4f4')\n",
        "plt.show()"
      ],
      "id": "542e2135"
    },
    {
      "cell_type": "markdown",
      "metadata": {},
      "source": [
        "## Discussion\n",
        "\n",
        "### Choosing the Right $\\lambda$\n",
        "\n",
        "Selecting the optimal value of $\\lambda$ is crucial. Typically, it’s\n",
        "done via cross-validation, where different values of $\\lambda$ are\n",
        "tried, and the model is evaluated based on its performance on the\n",
        "validation set. The value that results in the best generalization is\n",
        "selected.\n",
        "\n",
        "### Impact of $\\lambda$ on Bias-Variance Trade-off\n",
        "\n",
        "-   Low $\\lambda$: Leads to a low bias and high variance model because\n",
        "    the model closely fits the training data.\n",
        "-   High $\\lambda$: Leads to a high bias and low variance model, as the\n",
        "    regularization prevents the model from fitting the training data too\n",
        "    closely, reducing the variance but increasing the bias.\n",
        "\n",
        "### Facts\n",
        "\n",
        "Scaling is required for both Ridge and Lasso regression as they are not\n",
        "scale invariant due to the different norms in the definition.\n",
        "\n",
        "<table data-quarto-postprocess=\"true\" data-border=\"1\"\n",
        "data-cellpadding=\"10\" data-cellspacing=\"0\">\n",
        "<colgroup>\n",
        "<col style=\"width: 33%\" />\n",
        "<col style=\"width: 33%\" />\n",
        "<col style=\"width: 33%\" />\n",
        "</colgroup>\n",
        "<thead>\n",
        "<tr>\n",
        "<th data-quarto-table-cell-role=\"th\">Criteria</th>\n",
        "<th data-quarto-table-cell-role=\"th\">L1 Regularization (Lasso)</th>\n",
        "<th data-quarto-table-cell-role=\"th\">L2 Regularization (Ridge)</th>\n",
        "</tr>\n",
        "</thead>\n",
        "<tbody>\n",
        "<tr>\n",
        "<td><strong>Feature Selection</strong></td>\n",
        "<td>Can set some coefficients exactly to zero, effectively performing\n",
        "feature selection.</td>\n",
        "<td>Does not set coefficients to zero; shrinks them but retains all\n",
        "features.</td>\n",
        "</tr>\n",
        "<tr>\n",
        "<td><strong>Handling Multicollinearity</strong></td>\n",
        "<td>Not ideal for handling highly correlated features, as it may\n",
        "arbitrarily select one feature and discard the others.</td>\n",
        "<td>Works better in the presence of multicollinearity, as it tends to\n",
        "spread the penalty across correlated features.</td>\n",
        "</tr>\n",
        "<tr>\n",
        "<td><strong>Effect on Coefficients</strong></td>\n",
        "<td>Sparse solutions; coefficients are either zero or relatively large,\n",
        "favoring simpler models with fewer features.</td>\n",
        "<td>Coefficients are small and distributed more evenly across all\n",
        "features, leading to less sparse solutions.</td>\n",
        "</tr>\n",
        "<tr>\n",
        "<td><strong>Interpretability</strong></td>\n",
        "<td>Easier to interpret, as some features are removed, simplifying the\n",
        "model.</td>\n",
        "<td>All features remain in the model, making it harder to interpret when\n",
        "there are many features.</td>\n",
        "</tr>\n",
        "<tr>\n",
        "<td><strong>Computational Complexity</strong></td>\n",
        "<td>Can be computationally intensive with a large number of features due\n",
        "to the non-smooth nature of the L1 penalty.</td>\n",
        "<td>Less computationally expensive due to its smooth penalty term\n",
        "(squared coefficients).</td>\n",
        "</tr>\n",
        "<tr>\n",
        "<td><strong>Best Suited For</strong></td>\n",
        "<td>When you want a sparse model with feature selection, and when the\n",
        "number of irrelevant features is large.</td>\n",
        "<td>When you want to retain all features, especially in cases of\n",
        "multicollinearity, and avoid overfitting by shrinking coefficients.</td>\n",
        "</tr>\n",
        "<tr>\n",
        "<td><strong>When to Use</strong></td>\n",
        "<td><ul>\n",
        "<li>When you expect only a few features to be important.</li>\n",
        "<li>When you want automatic feature selection.</li>\n",
        "<li>When you need a simple, interpretable model.</li>\n",
        "</ul></td>\n",
        "<td><div class=\"cell raw\">\n",
        "<li>\n",
        "</div>\n",
        "When you believe all features contribute to the target.\n",
        "<div class=\"cell raw\">\n",
        "</li>\n",
        "</div>\n",
        "<div class=\"cell raw\">\n",
        "<li>\n",
        "</div>\n",
        "When dealing with multicollinear data.\n",
        "<div class=\"cell raw\">\n",
        "</li>\n",
        "</div>\n",
        "<div class=\"cell raw\">\n",
        "<li>\n",
        "</div>\n",
        "When you want to prevent overfitting but don’t want feature elimination.\n",
        "<div class=\"cell raw\">\n",
        "</li>\n",
        "</div></td>\n",
        "</tr>\n",
        "</tbody>\n",
        "</table>\n",
        "\n",
        "------------------------------------------------------------------------\n",
        "\n",
        "## References\n",
        "\n",
        "1.  **Tibshirani, R.** (1996). Regression shrinkage and selection via\n",
        "    the lasso. *Journal of the Royal Statistical Society: Series B\n",
        "    (Methodological)*, 58(1), 267-288.\n",
        "\n",
        "2.  **Hoerl, A. E., & Kennard, R. W.** (1970). Ridge regression: Biased\n",
        "    estimation for nonorthogonal problems. *Technometrics*, 12(1),\n",
        "    55-67.\n",
        "\n",
        "3.  **Zou, H., & Hastie, T.** (2005). Regularization and variable\n",
        "    selection via the elastic net. *Journal of the Royal Statistical\n",
        "    Society: Series B (Statistical Methodology)*, 67(2), 301-320.\n",
        "\n",
        "4.  **Srivastava, N., Hinton, G., Krizhevsky, A., Sutskever, I., &\n",
        "    Salakhutdinov, R.** (2014). Dropout: A simple way to prevent neural\n",
        "    networks from overfitting. *Journal of Machine Learning Research*,\n",
        "    15(1), 1929-1958.\n",
        "\n",
        "5.  **Goodfellow, I., Bengio, Y., & Courville, A.** (2016). *Deep\n",
        "    Learning*. MIT Press.\n",
        "\n",
        "6.  **Murphy, K. P.** (2012). *Machine Learning: A Probabilistic\n",
        "    Perspective*. MIT Press.\n",
        "\n",
        "------------------------------------------------------------------------\n",
        "\n",
        "**Share on**\n",
        "\n",
        "<a href=\"https://www.facebook.com/sharer.php?u=https://mrislambd.github.io/dsandml/posts/regularization/\" target=\"_blank\" style=\"color:#1877F2; text-decoration: none;\">\n",
        "\n",
        "</a>\n",
        "\n",
        "<a href=\"https://www.linkedin.com/sharing/share-offsite/?url=https://mrislambd.github.io/dsandml/posts/regularization/\" target=\"_blank\" style=\"color:#0077B5; text-decoration: none;\">\n",
        "\n",
        "</a>\n",
        "\n",
        "<a href=\"https://www.twitter.com/intent/tweet?url=https://mrislambd.github.io/dsandml/posts/regularization/\" target=\"_blank\" style=\"color:#1DA1F2; text-decoration: none;\">\n",
        "\n",
        "</a>"
      ],
      "id": "8fb7a7ab-f456-4d54-8072-45434bd671eb"
    },
    {
      "cell_type": "raw",
      "metadata": {
        "raw_mimetype": "text/html"
      },
      "source": [
        "<script src=\"https://giscus.app/client.js\"\n",
        "        data-repo=\"mrislambd/mrislambd.github.io\" \n",
        "        data-repo-id=\"R_kgDOMV8crA\"\n",
        "        data-category=\"Announcements\"\n",
        "        data-category-id=\"DIC_kwDOMV8crM4CjbQW\"\n",
        "        data-mapping=\"pathname\"\n",
        "        data-strict=\"0\"\n",
        "        data-reactions-enabled=\"1\"\n",
        "        data-emit-metadata=\"0\"\n",
        "        data-input-position=\"bottom\"\n",
        "        data-theme=\"light\"\n",
        "        data-lang=\"en\"\n",
        "        crossorigin=\"anonymous\"\n",
        "        async>\n",
        "</script>"
      ],
      "id": "1ba1087d-bf0e-478e-8e8c-66a3d88e2b38"
    },
    {
      "cell_type": "markdown",
      "metadata": {},
      "source": [],
      "id": "7ed0e948-e96b-4909-9cc3-5417e645b69e"
    },
    {
      "cell_type": "raw",
      "metadata": {
        "raw_mimetype": "text/html"
      },
      "source": [
        "<script async defer crossorigin=\"anonymous\"\n",
        " src=\"https://connect.facebook.net/en_US/sdk.js#xfbml=1&version=v20.0\"></script>"
      ],
      "id": "360279e0-0c1a-4792-b1b7-55a4cfc135f1"
    },
    {
      "cell_type": "markdown",
      "metadata": {},
      "source": [
        "**You may also like**"
      ],
      "id": "fda4274d-f959-4062-9581-beeb437c7b7c"
    }
  ],
  "nbformat": 4,
  "nbformat_minor": 5,
  "metadata": {
    "kernelspec": {
      "name": "python3",
      "display_name": "Python 3 (ipykernel)",
      "language": "python",
      "path": "/opt/hostedtoolcache/Python/3.10.18/x64/share/jupyter/kernels/python3"
    },
    "language_info": {
      "name": "python",
      "codemirror_mode": {
        "name": "ipython",
        "version": "3"
      },
      "file_extension": ".py",
      "mimetype": "text/x-python",
      "nbconvert_exporter": "python",
      "pygments_lexer": "ipython3",
      "version": "3.10.18"
    }
  }
}